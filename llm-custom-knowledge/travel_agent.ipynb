{
 "cells": [
  {
   "cell_type": "markdown",
   "metadata": {},
   "source": [
    "### Loading the functions"
   ]
  },
  {
   "cell_type": "code",
   "execution_count": null,
   "metadata": {},
   "outputs": [],
   "source": [
    "# Hands-on 1\n",
    "from unstructured_rag import get_list_from_pkl, get_pieces_of_interest, ask_question\n",
    "\n",
    "# Hands-on 2\n",
    "from structured_rag import parse_island_name, create_request_for_text2sql, generate_sql_query, fetch_data_from_database, clean_generated_sql\n",
    "\n",
    "# Hands-on 3\n",
    "from orchestrator import controller, acceptance\n",
    "\n",
    "import sqlite3"
   ]
  },
  {
   "cell_type": "markdown",
   "metadata": {},
   "source": [
    "# Welcome to our Travel Agency."
   ]
  },
  {
   "cell_type": "markdown",
   "metadata": {},
   "source": [
    "<img src=\"images/9_travel_agent.png\" alt=\"Image description\" width=\"1000\">  "
   ]
  },
  {
   "cell_type": "markdown",
   "metadata": {},
   "source": [
    "Now that we have all the functions loaded we put them together as a travel agent"
   ]
  },
  {
   "cell_type": "code",
   "execution_count": null,
   "metadata": {},
   "outputs": [],
   "source": [
    "def travel_agent(question:str):\n",
    "\n",
    "    ### Hands-on 3 | Orchestrator ###\n",
    "    print(\"🔍 Starting Orchestration...\")\n",
    "    identified_consideration = controller(question, acceptance, \"gpt-4\")\n",
    "    consideration = \"complete\"\n",
    "    if identified_consideration.lower() != consideration:\n",
    "        return(identified_consideration)\n",
    "    else:\n",
    "        print(\"✅ Consideration matched, proceeding with tasks...\")\n",
    "\n",
    "\n",
    "    ### Hands-on 1 | Information Retrieval: Semantic search for best island ###\n",
    "    print(\"🌴 1/Start - Retrieving island description...\")\n",
    "\n",
    "    best_fitting_island = get_pieces_of_interest(question=question,\n",
    "                                                embeddings=get_list_from_pkl(\"./data/embeddings.pkl\"),\n",
    "                                                travel_articles=get_list_from_pkl(\"./data/travel_articles.pkl\"),\n",
    "                                                k=1)\n",
    "    print(\"🌴 1/End - Found best fitting island!\")\n",
    "\n",
    "\n",
    "\n",
    "    ### Hands-on 2 | Information Retrieval: SQL Query for travel details ###\n",
    "    print(\"🏝️ 2/Start - Retrieve travel infromation...\")\n",
    "    island_name = parse_island_name(best_fitting_island[0])\n",
    "    print(f\"📝 2 - Creating SQL query to get travel infromation to {island_name}\")\n",
    "    text2sql_query = create_request_for_text2sql(island_name)\n",
    "    text2sql_query = text2sql_query + \"Please consider the following statement only if it contains relevant information: \" + question \n",
    "    print(\"🧠 Generating SQL query...\")\n",
    "    sql_query = generate_sql_query(text2sql_query)\n",
    "    print(\"📊 Fetching travel information...\")\n",
    "    conn = sqlite3.connect(\"data/travel_information.sqlite\")\n",
    "    travel_information = fetch_data_from_database(sql_query, conn) \n",
    "\n",
    "    print(\"📊 2/End Fetched travel information...\")\n",
    "\n",
    "\n",
    "\n",
    "    ### Travel Agent - Augmented Answer Generation: LLM to generate Answer ###\n",
    "    print(\"💡 Generating augmented answer...\")\n",
    "\n",
    "    travel_agent_character = \"\"\"You are a seasoned travel agent with the primary goal to help users looking to plan a vacation in Greece.\n",
    "                                You only include information provided in the prompt nothing else.\n",
    "                                \"\"\"\n",
    "\n",
    "    augmented_question_with_retrieved_information = f\"\"\"Use the travel information below to give an offer for a holiday trip: \\n\n",
    "            1. Customer request, this will be what you have to answer: \\n\n",
    "                {question} \\n \\n\n",
    "            2. Infromation about the island the customer wants to go. Highlight the parts that are most fitting for the customer request: \\n\n",
    "                {best_fitting_island[0]} \\n \\n\n",
    "            3. Travel information how to get to the island from Athens. If the client indicates a preferred way of travel highlight this in the response: \\n\n",
    "                {str(travel_information.to_json(orient='records', lines=False))} \\n \\n\n",
    "        \n",
    "            Output:\n",
    "            \n",
    "            The generated answer should be in the following paragraphs, clearly indicate the following sections:\n",
    "            Why you will love this: One sentence description why the island fits the customer request\n",
    "            Highlights: Relevant details about the island the customer might be interested in\n",
    "            Travel Options: Travel option, highlighting the clients needs.\n",
    "            \"\"\"\n",
    "    \n",
    "\n",
    "    prompt = [\n",
    "    {\n",
    "        \"role\": \"system\",\n",
    "        \"content\": travel_agent_character\n",
    "    },\n",
    "    {\n",
    "        \"role\": \"user\",\n",
    "        \"content\": augmented_question_with_retrieved_information\n",
    "    },\n",
    "    ]\n",
    "\n",
    "\n",
    "    response = ask_question(prompt, model=\"gpt-35-turbo\")\n",
    "    print(\"🎉 Ready for vacation? Consider: \")\n",
    "    return(response.choices[0].message.content)"
   ]
  },
  {
   "cell_type": "code",
   "execution_count": null,
   "metadata": {},
   "outputs": [],
   "source": [
    "question = # \"I want to do a trip to the islands of greece for two weeks\"\n",
    "response = travel_agent(question)\n",
    "print(response)"
   ]
  },
  {
   "cell_type": "markdown",
   "metadata": {},
   "source": [
    "Lets have fun:\n",
    "\n",
    "\n",
    "- Change the travel_agent_character to represent different `personas`, such as an adventure travel agent, a luxury travel agent, or a budget travel agent. Observe how the character influences the generated answers.\n",
    "- How would you optimize the `augmented_question_with_retrieved_information`\n",
    "- Do you think the controller keeps working with `gpt-35-turbo`?\n",
    "- Given what you've seen in todays workshop `structured RAG`, `unstructured RAG`, a `controller` - how would you bring this application to the next level?"
   ]
  }
 ],
 "metadata": {
  "kernelspec": {
   "display_name": "Python 3",
   "language": "python",
   "name": "python3"
  },
  "language_info": {
   "name": "python",
   "version": "3.11.3"
  }
 },
 "nbformat": 4,
 "nbformat_minor": 2
}
