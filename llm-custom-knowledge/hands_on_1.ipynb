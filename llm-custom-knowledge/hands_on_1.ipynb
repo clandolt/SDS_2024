{
 "cells": [
  {
   "cell_type": "markdown",
   "metadata": {},
   "source": [
    "# Part 1 - Get used to the OpenAI API\n",
    " "
   ]
  },
  {
   "cell_type": "markdown",
   "metadata": {},
   "source": [
    "## Import\n",
    "\n",
    "Import necessary libraries."
   ]
  },
  {
   "cell_type": "code",
   "execution_count": 1,
   "metadata": {},
   "outputs": [
    {
     "name": "stdout",
     "output_type": "stream",
     "text": [
      "Requirement already satisfied: openai in /opt/conda/lib/python3.11/site-packages (1.30.4)\n",
      "Requirement already satisfied: tiktoken in /opt/conda/lib/python3.11/site-packages (0.7.0)\n",
      "Requirement already satisfied: sentence_transformers in /opt/conda/lib/python3.11/site-packages (3.0.0)\n",
      "Requirement already satisfied: pandas in /opt/conda/lib/python3.11/site-packages (2.2.2)\n",
      "Requirement already satisfied: numpy in /opt/conda/lib/python3.11/site-packages (1.26.4)\n",
      "Requirement already satisfied: python-dotenv in /opt/conda/lib/python3.11/site-packages (1.0.1)\n",
      "Requirement already satisfied: anyio<5,>=3.5.0 in /opt/conda/lib/python3.11/site-packages (from openai) (4.3.0)\n",
      "Requirement already satisfied: distro<2,>=1.7.0 in /opt/conda/lib/python3.11/site-packages (from openai) (1.9.0)\n",
      "Requirement already satisfied: httpx<1,>=0.23.0 in /opt/conda/lib/python3.11/site-packages (from openai) (0.27.0)\n",
      "Requirement already satisfied: pydantic<3,>=1.9.0 in /opt/conda/lib/python3.11/site-packages (from openai) (2.7.2)\n",
      "Requirement already satisfied: sniffio in /opt/conda/lib/python3.11/site-packages (from openai) (1.3.1)\n",
      "Requirement already satisfied: tqdm>4 in /opt/conda/lib/python3.11/site-packages (from openai) (4.66.2)\n",
      "Requirement already satisfied: typing-extensions<5,>=4.7 in /opt/conda/lib/python3.11/site-packages (from openai) (4.11.0)\n",
      "Requirement already satisfied: regex>=2022.1.18 in /opt/conda/lib/python3.11/site-packages (from tiktoken) (2024.5.15)\n",
      "Requirement already satisfied: requests>=2.26.0 in /opt/conda/lib/python3.11/site-packages (from tiktoken) (2.31.0)\n",
      "Requirement already satisfied: transformers<5.0.0,>=4.34.0 in /opt/conda/lib/python3.11/site-packages (from sentence_transformers) (4.41.1)\n",
      "Requirement already satisfied: torch>=1.11.0 in /opt/conda/lib/python3.11/site-packages (from sentence_transformers) (2.2.2+cu121)\n",
      "Requirement already satisfied: scikit-learn in /opt/conda/lib/python3.11/site-packages (from sentence_transformers) (1.4.2)\n",
      "Requirement already satisfied: scipy in /opt/conda/lib/python3.11/site-packages (from sentence_transformers) (1.13.0)\n",
      "Requirement already satisfied: huggingface-hub>=0.15.1 in /opt/conda/lib/python3.11/site-packages (from sentence_transformers) (0.23.2)\n",
      "Requirement already satisfied: Pillow in /opt/conda/lib/python3.11/site-packages (from sentence_transformers) (10.3.0)\n",
      "Requirement already satisfied: python-dateutil>=2.8.2 in /opt/conda/lib/python3.11/site-packages (from pandas) (2.9.0)\n",
      "Requirement already satisfied: pytz>=2020.1 in /opt/conda/lib/python3.11/site-packages (from pandas) (2024.1)\n",
      "Requirement already satisfied: tzdata>=2022.7 in /opt/conda/lib/python3.11/site-packages (from pandas) (2024.1)\n",
      "Requirement already satisfied: idna>=2.8 in /opt/conda/lib/python3.11/site-packages (from anyio<5,>=3.5.0->openai) (3.7)\n",
      "Requirement already satisfied: certifi in /opt/conda/lib/python3.11/site-packages (from httpx<1,>=0.23.0->openai) (2024.2.2)\n",
      "Requirement already satisfied: httpcore==1.* in /opt/conda/lib/python3.11/site-packages (from httpx<1,>=0.23.0->openai) (1.0.5)\n",
      "Requirement already satisfied: h11<0.15,>=0.13 in /opt/conda/lib/python3.11/site-packages (from httpcore==1.*->httpx<1,>=0.23.0->openai) (0.14.0)\n",
      "Requirement already satisfied: filelock in /opt/conda/lib/python3.11/site-packages (from huggingface-hub>=0.15.1->sentence_transformers) (3.9.0)\n",
      "Requirement already satisfied: fsspec>=2023.5.0 in /opt/conda/lib/python3.11/site-packages (from huggingface-hub>=0.15.1->sentence_transformers) (2024.3.1)\n",
      "Requirement already satisfied: packaging>=20.9 in /opt/conda/lib/python3.11/site-packages (from huggingface-hub>=0.15.1->sentence_transformers) (24.0)\n",
      "Requirement already satisfied: pyyaml>=5.1 in /opt/conda/lib/python3.11/site-packages (from huggingface-hub>=0.15.1->sentence_transformers) (6.0.1)\n",
      "Requirement already satisfied: annotated-types>=0.4.0 in /opt/conda/lib/python3.11/site-packages (from pydantic<3,>=1.9.0->openai) (0.7.0)\n",
      "Requirement already satisfied: pydantic-core==2.18.3 in /opt/conda/lib/python3.11/site-packages (from pydantic<3,>=1.9.0->openai) (2.18.3)\n",
      "Requirement already satisfied: six>=1.5 in /opt/conda/lib/python3.11/site-packages (from python-dateutil>=2.8.2->pandas) (1.16.0)\n",
      "Requirement already satisfied: charset-normalizer<4,>=2 in /opt/conda/lib/python3.11/site-packages (from requests>=2.26.0->tiktoken) (3.3.2)\n",
      "Requirement already satisfied: urllib3<3,>=1.21.1 in /opt/conda/lib/python3.11/site-packages (from requests>=2.26.0->tiktoken) (2.2.1)\n",
      "Requirement already satisfied: sympy in /opt/conda/lib/python3.11/site-packages (from torch>=1.11.0->sentence_transformers) (1.12)\n",
      "Requirement already satisfied: networkx in /opt/conda/lib/python3.11/site-packages (from torch>=1.11.0->sentence_transformers) (3.3)\n",
      "Requirement already satisfied: jinja2 in /opt/conda/lib/python3.11/site-packages (from torch>=1.11.0->sentence_transformers) (3.1.3)\n",
      "Requirement already satisfied: nvidia-cuda-nvrtc-cu12==12.1.105 in /opt/conda/lib/python3.11/site-packages (from torch>=1.11.0->sentence_transformers) (12.1.105)\n",
      "Requirement already satisfied: nvidia-cuda-runtime-cu12==12.1.105 in /opt/conda/lib/python3.11/site-packages (from torch>=1.11.0->sentence_transformers) (12.1.105)\n",
      "Requirement already satisfied: nvidia-cuda-cupti-cu12==12.1.105 in /opt/conda/lib/python3.11/site-packages (from torch>=1.11.0->sentence_transformers) (12.1.105)\n",
      "Requirement already satisfied: nvidia-cudnn-cu12==8.9.2.26 in /opt/conda/lib/python3.11/site-packages (from torch>=1.11.0->sentence_transformers) (8.9.2.26)\n",
      "Requirement already satisfied: nvidia-cublas-cu12==12.1.3.1 in /opt/conda/lib/python3.11/site-packages (from torch>=1.11.0->sentence_transformers) (12.1.3.1)\n",
      "Requirement already satisfied: nvidia-cufft-cu12==11.0.2.54 in /opt/conda/lib/python3.11/site-packages (from torch>=1.11.0->sentence_transformers) (11.0.2.54)\n",
      "Requirement already satisfied: nvidia-curand-cu12==10.3.2.106 in /opt/conda/lib/python3.11/site-packages (from torch>=1.11.0->sentence_transformers) (10.3.2.106)\n",
      "Requirement already satisfied: nvidia-cusolver-cu12==11.4.5.107 in /opt/conda/lib/python3.11/site-packages (from torch>=1.11.0->sentence_transformers) (11.4.5.107)\n",
      "Requirement already satisfied: nvidia-cusparse-cu12==12.1.0.106 in /opt/conda/lib/python3.11/site-packages (from torch>=1.11.0->sentence_transformers) (12.1.0.106)\n",
      "Requirement already satisfied: nvidia-nccl-cu12==2.19.3 in /opt/conda/lib/python3.11/site-packages (from torch>=1.11.0->sentence_transformers) (2.19.3)\n",
      "Requirement already satisfied: nvidia-nvtx-cu12==12.1.105 in /opt/conda/lib/python3.11/site-packages (from torch>=1.11.0->sentence_transformers) (12.1.105)\n",
      "Requirement already satisfied: triton==2.2.0 in /opt/conda/lib/python3.11/site-packages (from torch>=1.11.0->sentence_transformers) (2.2.0)\n",
      "Requirement already satisfied: nvidia-nvjitlink-cu12 in /opt/conda/lib/python3.11/site-packages (from nvidia-cusolver-cu12==11.4.5.107->torch>=1.11.0->sentence_transformers) (12.4.127)\n",
      "Requirement already satisfied: tokenizers<0.20,>=0.19 in /opt/conda/lib/python3.11/site-packages (from transformers<5.0.0,>=4.34.0->sentence_transformers) (0.19.1)\n",
      "Requirement already satisfied: safetensors>=0.4.1 in /opt/conda/lib/python3.11/site-packages (from transformers<5.0.0,>=4.34.0->sentence_transformers) (0.4.3)\n",
      "Requirement already satisfied: joblib>=1.2.0 in /opt/conda/lib/python3.11/site-packages (from scikit-learn->sentence_transformers) (1.4.0)\n",
      "Requirement already satisfied: threadpoolctl>=2.0.0 in /opt/conda/lib/python3.11/site-packages (from scikit-learn->sentence_transformers) (3.4.0)\n",
      "Requirement already satisfied: MarkupSafe>=2.0 in /opt/conda/lib/python3.11/site-packages (from jinja2->torch>=1.11.0->sentence_transformers) (2.1.5)\n",
      "Requirement already satisfied: mpmath>=0.19 in /opt/conda/lib/python3.11/site-packages (from sympy->torch>=1.11.0->sentence_transformers) (1.3.0)\n"
     ]
    }
   ],
   "source": [
    "!pip install openai tiktoken sentence_transformers pandas numpy python-dotenv"
   ]
  },
  {
   "cell_type": "code",
   "execution_count": 2,
   "metadata": {},
   "outputs": [
    {
     "name": "stderr",
     "output_type": "stream",
     "text": [
      "/opt/conda/lib/python3.11/site-packages/sentence_transformers/cross_encoder/CrossEncoder.py:11: TqdmExperimentalWarning: Using `tqdm.autonotebook.tqdm` in notebook mode. Use `tqdm.tqdm` instead to force console mode (e.g. in jupyter console)\n",
      "  from tqdm.autonotebook import tqdm, trange\n"
     ]
    }
   ],
   "source": [
    "import openai\n",
    "from openai import AzureOpenAI\n",
    "import os\n",
    "from IPython.display import display, Markdown, HTML\n",
    "import pandas as pd\n",
    "import numpy as np\n",
    "import tiktoken\n",
    "from typing import List, Dict\n",
    "from sentence_transformers import SentenceTransformer\n",
    "from dotenv import load_dotenv  \n",
    "load_dotenv();"
   ]
  },
  {
   "cell_type": "markdown",
   "metadata": {},
   "source": [
    "## Constants\n",
    "\n",
    "Let's set up some constants. These are:\n",
    "\n",
    "- The model we will be using (defined in Azure OpenAI).\n",
    "- Cost for token completion and prompt (we take this from Azure OpenAI Studio for the respective model).\n",
    "- Openai API setup."
   ]
  },
  {
   "cell_type": "code",
   "execution_count": 3,
   "metadata": {},
   "outputs": [],
   "source": [
    "# MODEL = os.environ.get(\"OPENAI_API_DEPLOYMENT\", \"gpt-4\")\n",
    "MODEL = \"gpt-35-turbo\"  # Uncomment if token rate is too high\n",
    "\n",
    "%run model_cost.py\n",
    "model_cost = get_model_instance(model_name=MODEL)\n",
    "\n",
    "client = AzureOpenAI(\n",
    "    azure_endpoint=os.environ.get(\"AZURE_OPENAI_ENDPOINT\"),\n",
    "    api_key=os.environ.get(\"AZURE_OPENAI_API_KEY\"),\n",
    "    api_version=os.environ.get(\"AZURE_OPENAI_VERSION\", \"2023-07-01-preview\"),\n",
    ")"
   ]
  },
  {
   "cell_type": "code",
   "execution_count": 4,
   "metadata": {},
   "outputs": [
    {
     "name": "stdout",
     "output_type": "stream",
     "text": [
      "3606312c6a244aa2a4ed105cba1c3e5e\n"
     ]
    }
   ],
   "source": [
    "print(os.environ.get(\"AZURE_OPENAI_API_KEY\"))"
   ]
  },
  {
   "cell_type": "markdown",
   "metadata": {},
   "source": [
    "## Construct a prompt and receive response from the API\n",
    "\n",
    "We will send a prompt to the API and get a response back. The prompt is a string that is used to \"seed\" the model. The model will then generate a completion based on the prompt. The completion is a string of text that is generated by the model."
   ]
  },
  {
   "cell_type": "code",
   "execution_count": 5,
   "metadata": {},
   "outputs": [],
   "source": [
    "def ask_question(\n",
    "        prompt: List[Dict[str, str]],\n",
    "        model: str = MODEL\n",
    "    ) -> openai.types.chat.chat_completion.ChatCompletion:\n",
    "    \"\"\"Function to ask a question to the GPT model using the Azure OpenAI API.\n",
    "    \n",
    "    Args:\n",
    "        prompt: The prompt to send to the GPT model\n",
    "        model: The model to use\n",
    "\n",
    "    Returns:\n",
    "        The response from the GPT model\n",
    "    \"\"\"\n",
    "\n",
    "    response = client.chat.completions.create(\n",
    "        model=model,\n",
    "        messages=prompt,\n",
    "        temperature=0.7,\n",
    "        max_tokens=1500,\n",
    "        top_p=0.95,\n",
    "        frequency_penalty=0,\n",
    "        presence_penalty=0,\n",
    "        stop=None,\n",
    "    )\n",
    "    \n",
    "    return response\n"
   ]
  },
  {
   "cell_type": "markdown",
   "metadata": {},
   "source": [
    "It is always a good idea to monitor costs. We will do this with the function `get_cost()`. This function will return the cost of the API call."
   ]
  },
  {
   "cell_type": "code",
   "execution_count": 6,
   "metadata": {},
   "outputs": [],
   "source": [
    "def get_cost(\n",
    "        response: openai.types.chat.chat_completion.ChatCompletion,\n",
    "        token_cost_per_completion: float,\n",
    "        token_cost_per_prompt: float,\n",
    "    ) -> float:\n",
    "    \"\"\"Function to compute the cost of a prompt + completion response.\n",
    "    \n",
    "    Args:\n",
    "        response: The response from the GPT model\n",
    "        token_cost_per_completion: The cost per completion token\n",
    "        token_cost_per_prompt: The cost per prompt token\n",
    "    \n",
    "    Returns:\n",
    "        The cost of the prompt + completion response\n",
    "    \"\"\"\n",
    "    completion_tokens = response.usage.completion_tokens\n",
    "    prompt_tokens = response.usage.prompt_tokens\n",
    "\n",
    "    cost = (completion_tokens * token_cost_per_completion) + (\n",
    "        prompt_tokens * token_cost_per_prompt\n",
    "    )\n",
    "\n",
    "    return cost\n"
   ]
  },
  {
   "cell_type": "code",
   "execution_count": 7,
   "metadata": {},
   "outputs": [
    {
     "data": {
      "text/markdown": [
       "It really depends on what you're looking for in a vacation. If you're into picturesque beaches and vibrant nightlife, Mykonos is a popular choice. If you prefer a more relaxed and traditional atmosphere, Santorini with its stunning sunsets and white-washed buildings is a great option. And if you're interested in history and culture, Crete, the largest of the Greek islands, offers a mix of beautiful landscapes and ancient ruins.\n",
       "\n",
       "Joke: Why don't Greeks like making eye contact during a conversation? Because it's hard to focus with all that feta in their eyes!"
      ],
      "text/plain": [
       "<IPython.core.display.Markdown object>"
      ]
     },
     "metadata": {},
     "output_type": "display_data"
    },
    {
     "name": "stdout",
     "output_type": "stream",
     "text": [
      "Total cost for this response: 0.00028 CHF (model was gpt3.5-turbo).\n"
     ]
    }
   ],
   "source": [
    "# Define a question to ask to the model\n",
    "question = \"Which one is the best Greek Island for a vacation?\"\n",
    "\n",
    "# Set the character\n",
    "character = \"You answer question about the Greek Islands. Include a joke about Greece in every response.\"\n",
    "\n",
    "# Build the prompt\n",
    "prompt = [\n",
    "    {\n",
    "        \"role\": \"system\",\n",
    "        \"content\": character\n",
    "    },\n",
    "    {\n",
    "        \"role\": \"user\",\n",
    "        \"content\": question\n",
    "    },\n",
    "]\n",
    "\n",
    "# Ask the question to the model\n",
    "response = ask_question(prompt=prompt)\n",
    "\n",
    "# Display the answer\n",
    "answer = response.choices[0].message.content\n",
    "display(Markdown(answer))\n",
    "\n",
    "# Compute and print the cost\n",
    "cost = get_cost(\n",
    "    response=response,\n",
    "    token_cost_per_completion=model_cost.token_cost_per_completion,\n",
    "    token_cost_per_prompt=model_cost.token_cost_per_prompt\n",
    ")\n",
    "print(f\"Total cost for this response: {cost:.5f} {model_cost.currency} (model was {model_cost.name}).\")"
   ]
  },
  {
   "cell_type": "code",
   "execution_count": 8,
   "metadata": {},
   "outputs": [
    {
     "data": {
      "text/plain": [
       "ChatCompletion(id='chatcmpl-9UVIKiVtG91XmsP087dUkfTouMuI1', choices=[Choice(finish_reason='stop', index=0, logprobs=None, message=ChatCompletionMessage(content=\"It really depends on what you're looking for in a vacation. If you're into picturesque beaches and vibrant nightlife, Mykonos is a popular choice. If you prefer a more relaxed and traditional atmosphere, Santorini with its stunning sunsets and white-washed buildings is a great option. And if you're interested in history and culture, Crete, the largest of the Greek islands, offers a mix of beautiful landscapes and ancient ruins.\\n\\nJoke: Why don't Greeks like making eye contact during a conversation? Because it's hard to focus with all that feta in their eyes!\", role='assistant', function_call=None, tool_calls=None), content_filter_results={'hate': {'filtered': False, 'severity': 'safe'}, 'self_harm': {'filtered': False, 'severity': 'safe'}, 'sexual': {'filtered': False, 'severity': 'safe'}, 'violence': {'filtered': False, 'severity': 'safe'}})], created=1717057164, model='gpt-35-turbo', object='chat.completion', system_fingerprint='fp_2f57f81c11', usage=CompletionUsage(completion_tokens=119, prompt_tokens=39, total_tokens=158), prompt_filter_results=[{'prompt_index': 0, 'content_filter_results': {'hate': {'filtered': False, 'severity': 'safe'}, 'self_harm': {'filtered': False, 'severity': 'safe'}, 'sexual': {'filtered': False, 'severity': 'safe'}, 'violence': {'filtered': False, 'severity': 'safe'}}}])"
      ]
     },
     "execution_count": 8,
     "metadata": {},
     "output_type": "execute_result"
    }
   ],
   "source": [
    "response"
   ]
  },
  {
   "cell_type": "markdown",
   "metadata": {},
   "source": [
    "# Part 2 - Integrating Private Domain Knowledge\n",
    "\n",
    "Note that you need to have executed all cells in Part 1 for Part 2 to function."
   ]
  },
  {
   "attachments": {},
   "cell_type": "markdown",
   "metadata": {},
   "source": [
    "## High level workflow description\n",
    "\n",
    "<img src=\"images/0_overview.png\" alt=\"Image description\" width=\"1000\">  \n"
   ]
  },
  {
   "attachments": {},
   "cell_type": "markdown",
   "metadata": {},
   "source": [
    "## Load the Travel Articles and Calculate the Embeddings\n",
    "\n",
    "We have prepared the travel articles for you. These articles constitute private domain knowledge that the model has no access to. We will load them into memory and calculate the embeddings for each article. We will use these embeddings to retrieve the most relevant articles for a given question.\n",
    "\n",
    "<img src=\"images/1_calculate_domain_knowledge.png\" alt=\"Image description\" width=\"200\">  \n"
   ]
  },
  {
   "cell_type": "markdown",
   "metadata": {},
   "source": [
    "You need to provide the path to the travel articles to the Notebooks local instance and provide the path to the travel articles in the variable `path_travel_articles`."
   ]
  },
  {
   "cell_type": "code",
   "execution_count": 9,
   "metadata": {},
   "outputs": [],
   "source": [
    "# Provide the path to the embeddings file as a string, e.g., path_travel_articles = \"./data/travel_articles/\"\n",
    "path_travel_articles = \"./data/travel_articles/\""
   ]
  },
  {
   "cell_type": "markdown",
   "metadata": {},
   "source": [
    "Each article is in a separate text file. The code snipped below will discover all the text files in the directory and load them into memory."
   ]
  },
  {
   "cell_type": "code",
   "execution_count": 10,
   "metadata": {},
   "outputs": [
    {
     "data": {
      "text/markdown": [
       "Title: Run Your Way Through Paradise: Evia, the Ultimate Running Destination\n",
       "\n",
       "Subtitle: Discover the spectacular island of Evia in Greece and unleash your inner runner in the world's premier running paradise\n",
       "\n",
       "Introduction\n",
       "\n",
       "Trade in your treadmill for a breathtaking journey to the idyllic island of Evia, Greece's best-kept secret and the ultimate running destination. With its pristine coastline, lush forests, and majestic mountains, Evia has something for everyone, whether you're a seasoned marathoner or a casual jogger. In this article, we'll explore what makes Evia the perfect getaway for those seeking a running adventure like no other and highlight the must-visit attractions that make this island so special.\n",
       "\n",
       "Running Paradise: What Makes Evia Stand Out\n",
       "\n",
       "Evia, the second-largest island in Greece, boasts an unparalleled landscape that combines breathtaking beauty with a diverse terrain that caters to runners of all levels. Its 370 km of coastline offers stunning views, whether you're running along the sandy beaches of the Aegean Sea or traversing the rocky cliffs that frame the Euboean Gulf. The island's lush, green forests provide a peaceful escape from the bustling cities, while the challenging mountain trails will test your stamina and reward you with unparalleled vistas.\n",
       "\n",
       "But what truly sets Evia apart is its unique \"Runners' Village\", an innovative concept that brings together running enthusiasts from around the world to share their passion, exchange tips, and embark on unforgettable running adventures. Located in the heart of the island, the Runners' Village offers state-of-the-art facilities, expert coaching, and a supportive community that will help you elevate your running game to new heights.\n",
       "\n",
       "Runners' Village: A Haven for Running Enthusiasts\n",
       "\n",
       "Established in 20XX, the Runners' Village has quickly become a mecca for running enthusiasts, attracting athletes from around the globe. The Village offers a range of accommodations to suit every budget, from cozy cottages to luxurious villas, all designed with the runner's comfort and needs in mind.\n",
       "\n",
       "The heart of the Runners' Village is the state-of-the-art Training Center, equipped with the latest technology and staffed by a team of expert coaches who are on hand to help you achieve your running goals. Whether you're looking to improve your technique, increase your speed, or simply learn more about the sport, the Training Center offers a range of workshops, seminars, and one-on-one coaching sessions tailored to your needs.\n",
       "\n",
       "But the true magic of the Runners' Village lies in its diverse running trails, which have been meticulously designed to cater to all abilities and preferences. From gentle beachside jogs to grueling mountain treks, the island's extensive trail network offers an unrivaled running experience. And with regular races and events, including the prestigious Evia Marathon, there's always an opportunity to test your skills and challenge yourself against runners from around the world.\n",
       "\n",
       "Evia's Must-Visit Attractions\n",
       "\n",
       "While running is undoubtedly the main attraction, Evia has much more to offer. Here are some must-visit attractions to make your stay on the island even more memorable:\n",
       "\n",
       "1. Edipsos Hot Springs: After a long run, treat your tired muscles to a soothing soak in the ancient hot springs of Edipsos, famed for their therapeutic properties since the days of Aristotle.\n",
       "\n",
       "2. Steni Forest: Discover the island's lush, green heart by taking a leisurely hike through Steni Forest, a tranquil haven home to a rich variety of flora and fauna, including the elusive roe deer.\n",
       "\n",
       "3. Drakospita: Explore the mysterious Drakospita, or \"Dragon Houses\", ancient stone structures that have puzzled archaeologists for centuries. Whether you believe they were the homes of mythological creatures or simply impressive feats of engineering, they're a must-see.\n",
       "\n",
       "4. Kymi: Visit the picturesque town of Kymi, perched on a hill overlooking the Aegean Sea. With its narrow, winding streets and traditional architecture, it's the perfect spot for a leisurely stroll and a taste of authentic Greek cuisine.\n",
       "\n",
       "5. Lihadonisia: Take a day trip to the uninhabited Lihadonisia islands, known as the \"Seychelles of Greece\" for their crystal-clear waters and pristine beaches. Snorkel, swim, or simply soak up the sun in this idyllic paradise.\n",
       "\n",
       "In Conclusion\n",
       "\n",
       "Evia is a hidden gem that offers a running experience like no other. With its diverse landscape, state-of-the-art facilities, and welcoming community, it's no wonder that the island has become the ultimate destination for running enthusiasts. So lace up your running shoes, pack your bags, and prepare to discover the unparalleled beauty and exhilarating trails of Evia, the world's premier running paradise."
      ],
      "text/plain": [
       "<IPython.core.display.Markdown object>"
      ]
     },
     "metadata": {},
     "output_type": "display_data"
    }
   ],
   "source": [
    "travel_articles = []\n",
    "for file in os.listdir(path_travel_articles):\n",
    "    if file.endswith(\".txt\"):\n",
    "        with open(os.path.join(path_travel_articles, file), \"r\") as f:\n",
    "            travel_articles.append(f.read())\n",
    "\n",
    "display(Markdown(travel_articles[17]))"
   ]
  },
  {
   "cell_type": "markdown",
   "metadata": {},
   "source": [
    "Next, we calculate the embeddings using the sentence transformer model `all-mpnet-base-v2` (https://huggingface.co/sentence-transformers/all-mpnet-base-v2). Observe that all the vectors are of the same size, `768`. This is because the transformer model outputs a fixed-size vector for each input string."
   ]
  },
  {
   "cell_type": "code",
   "execution_count": 11,
   "metadata": {},
   "outputs": [
    {
     "name": "stderr",
     "output_type": "stream",
     "text": [
      "/opt/conda/lib/python3.11/site-packages/huggingface_hub/file_download.py:1132: FutureWarning: `resume_download` is deprecated and will be removed in version 1.0.0. Downloads always resume when possible. If you want to force a new download, use `force_download=True`.\n",
      "  warnings.warn(\n"
     ]
    },
    {
     "data": {
      "application/vnd.jupyter.widget-view+json": {
       "model_id": "701487e78217453e98833ec65b8e4229",
       "version_major": 2,
       "version_minor": 0
      },
      "text/plain": [
       "Batches:   0%|          | 0/1 [00:00<?, ?it/s]"
      ]
     },
     "metadata": {},
     "output_type": "display_data"
    },
    {
     "name": "stdout",
     "output_type": "stream",
     "text": [
      "Shape of the vector: (768,)\n"
     ]
    },
    {
     "data": {
      "application/vnd.jupyter.widget-view+json": {
       "model_id": "4f436241ae514d7facc4df3b43717e44",
       "version_major": 2,
       "version_minor": 0
      },
      "text/plain": [
       "Batches:   0%|          | 0/1 [00:00<?, ?it/s]"
      ]
     },
     "metadata": {},
     "output_type": "display_data"
    },
    {
     "name": "stdout",
     "output_type": "stream",
     "text": [
      "Shape of the vector: (768,)\n"
     ]
    },
    {
     "data": {
      "application/vnd.jupyter.widget-view+json": {
       "model_id": "3654fd62c80246e9b4cf59f92eb31985",
       "version_major": 2,
       "version_minor": 0
      },
      "text/plain": [
       "Batches:   0%|          | 0/1 [00:00<?, ?it/s]"
      ]
     },
     "metadata": {},
     "output_type": "display_data"
    },
    {
     "name": "stdout",
     "output_type": "stream",
     "text": [
      "Shape of the vector: (768,)\n"
     ]
    },
    {
     "data": {
      "application/vnd.jupyter.widget-view+json": {
       "model_id": "cf0eb326474a4e5e9468cc457f180ff1",
       "version_major": 2,
       "version_minor": 0
      },
      "text/plain": [
       "Batches:   0%|          | 0/1 [00:00<?, ?it/s]"
      ]
     },
     "metadata": {},
     "output_type": "display_data"
    },
    {
     "name": "stdout",
     "output_type": "stream",
     "text": [
      "Shape of the vector: (768,)\n"
     ]
    },
    {
     "data": {
      "application/vnd.jupyter.widget-view+json": {
       "model_id": "4219c04ddf0f43c0bbe342b8813ab7c8",
       "version_major": 2,
       "version_minor": 0
      },
      "text/plain": [
       "Batches:   0%|          | 0/1 [00:00<?, ?it/s]"
      ]
     },
     "metadata": {},
     "output_type": "display_data"
    },
    {
     "name": "stdout",
     "output_type": "stream",
     "text": [
      "Shape of the vector: (768,)\n"
     ]
    },
    {
     "data": {
      "application/vnd.jupyter.widget-view+json": {
       "model_id": "47ca5d7f55974de69854bcff7afce524",
       "version_major": 2,
       "version_minor": 0
      },
      "text/plain": [
       "Batches:   0%|          | 0/1 [00:00<?, ?it/s]"
      ]
     },
     "metadata": {},
     "output_type": "display_data"
    },
    {
     "name": "stdout",
     "output_type": "stream",
     "text": [
      "Shape of the vector: (768,)\n"
     ]
    },
    {
     "data": {
      "application/vnd.jupyter.widget-view+json": {
       "model_id": "3e9df054f51745a694c2d7640c326324",
       "version_major": 2,
       "version_minor": 0
      },
      "text/plain": [
       "Batches:   0%|          | 0/1 [00:00<?, ?it/s]"
      ]
     },
     "metadata": {},
     "output_type": "display_data"
    },
    {
     "name": "stdout",
     "output_type": "stream",
     "text": [
      "Shape of the vector: (768,)\n"
     ]
    },
    {
     "data": {
      "application/vnd.jupyter.widget-view+json": {
       "model_id": "a9add2c02f4a43f893ce5909a45a062a",
       "version_major": 2,
       "version_minor": 0
      },
      "text/plain": [
       "Batches:   0%|          | 0/1 [00:00<?, ?it/s]"
      ]
     },
     "metadata": {},
     "output_type": "display_data"
    },
    {
     "name": "stdout",
     "output_type": "stream",
     "text": [
      "Shape of the vector: (768,)\n"
     ]
    },
    {
     "data": {
      "application/vnd.jupyter.widget-view+json": {
       "model_id": "c509eb2e616944958a7a2e5ed6a53cdf",
       "version_major": 2,
       "version_minor": 0
      },
      "text/plain": [
       "Batches:   0%|          | 0/1 [00:00<?, ?it/s]"
      ]
     },
     "metadata": {},
     "output_type": "display_data"
    },
    {
     "name": "stdout",
     "output_type": "stream",
     "text": [
      "Shape of the vector: (768,)\n"
     ]
    },
    {
     "data": {
      "application/vnd.jupyter.widget-view+json": {
       "model_id": "16ec83e4ccab44c8b41a8a4880c02dd0",
       "version_major": 2,
       "version_minor": 0
      },
      "text/plain": [
       "Batches:   0%|          | 0/1 [00:00<?, ?it/s]"
      ]
     },
     "metadata": {},
     "output_type": "display_data"
    },
    {
     "name": "stdout",
     "output_type": "stream",
     "text": [
      "Shape of the vector: (768,)\n"
     ]
    },
    {
     "data": {
      "application/vnd.jupyter.widget-view+json": {
       "model_id": "40dcaea1868b47da81d2dc4a400603c1",
       "version_major": 2,
       "version_minor": 0
      },
      "text/plain": [
       "Batches:   0%|          | 0/1 [00:00<?, ?it/s]"
      ]
     },
     "metadata": {},
     "output_type": "display_data"
    },
    {
     "name": "stdout",
     "output_type": "stream",
     "text": [
      "Shape of the vector: (768,)\n"
     ]
    },
    {
     "data": {
      "application/vnd.jupyter.widget-view+json": {
       "model_id": "b76b26940d7e43cfb2b73477784f9adb",
       "version_major": 2,
       "version_minor": 0
      },
      "text/plain": [
       "Batches:   0%|          | 0/1 [00:00<?, ?it/s]"
      ]
     },
     "metadata": {},
     "output_type": "display_data"
    },
    {
     "name": "stdout",
     "output_type": "stream",
     "text": [
      "Shape of the vector: (768,)\n"
     ]
    },
    {
     "data": {
      "application/vnd.jupyter.widget-view+json": {
       "model_id": "8f00646680ca4627a303570df8095a9a",
       "version_major": 2,
       "version_minor": 0
      },
      "text/plain": [
       "Batches:   0%|          | 0/1 [00:00<?, ?it/s]"
      ]
     },
     "metadata": {},
     "output_type": "display_data"
    },
    {
     "name": "stdout",
     "output_type": "stream",
     "text": [
      "Shape of the vector: (768,)\n"
     ]
    },
    {
     "data": {
      "application/vnd.jupyter.widget-view+json": {
       "model_id": "58708e5b7bb64fe683fd4bee92c55040",
       "version_major": 2,
       "version_minor": 0
      },
      "text/plain": [
       "Batches:   0%|          | 0/1 [00:00<?, ?it/s]"
      ]
     },
     "metadata": {},
     "output_type": "display_data"
    },
    {
     "name": "stdout",
     "output_type": "stream",
     "text": [
      "Shape of the vector: (768,)\n"
     ]
    },
    {
     "data": {
      "application/vnd.jupyter.widget-view+json": {
       "model_id": "840a4479b6b84921a7d6fc44e453f60b",
       "version_major": 2,
       "version_minor": 0
      },
      "text/plain": [
       "Batches:   0%|          | 0/1 [00:00<?, ?it/s]"
      ]
     },
     "metadata": {},
     "output_type": "display_data"
    },
    {
     "name": "stdout",
     "output_type": "stream",
     "text": [
      "Shape of the vector: (768,)\n"
     ]
    },
    {
     "data": {
      "application/vnd.jupyter.widget-view+json": {
       "model_id": "be9c5de5f1aa4c7087950cadb7ebac1a",
       "version_major": 2,
       "version_minor": 0
      },
      "text/plain": [
       "Batches:   0%|          | 0/1 [00:00<?, ?it/s]"
      ]
     },
     "metadata": {},
     "output_type": "display_data"
    },
    {
     "name": "stdout",
     "output_type": "stream",
     "text": [
      "Shape of the vector: (768,)\n"
     ]
    },
    {
     "data": {
      "application/vnd.jupyter.widget-view+json": {
       "model_id": "f16a3b0b83ec4c7296ce88fedac0f28e",
       "version_major": 2,
       "version_minor": 0
      },
      "text/plain": [
       "Batches:   0%|          | 0/1 [00:00<?, ?it/s]"
      ]
     },
     "metadata": {},
     "output_type": "display_data"
    },
    {
     "name": "stdout",
     "output_type": "stream",
     "text": [
      "Shape of the vector: (768,)\n"
     ]
    },
    {
     "data": {
      "application/vnd.jupyter.widget-view+json": {
       "model_id": "1c05f16568ca43b28bf97ffe430facda",
       "version_major": 2,
       "version_minor": 0
      },
      "text/plain": [
       "Batches:   0%|          | 0/1 [00:00<?, ?it/s]"
      ]
     },
     "metadata": {},
     "output_type": "display_data"
    },
    {
     "name": "stdout",
     "output_type": "stream",
     "text": [
      "Shape of the vector: (768,)\n"
     ]
    },
    {
     "data": {
      "application/vnd.jupyter.widget-view+json": {
       "model_id": "1639efb3525c4591a1909d743697d71c",
       "version_major": 2,
       "version_minor": 0
      },
      "text/plain": [
       "Batches:   0%|          | 0/1 [00:00<?, ?it/s]"
      ]
     },
     "metadata": {},
     "output_type": "display_data"
    },
    {
     "name": "stdout",
     "output_type": "stream",
     "text": [
      "Shape of the vector: (768,)\n"
     ]
    },
    {
     "data": {
      "application/vnd.jupyter.widget-view+json": {
       "model_id": "6959cb013e024d6da4a1e8c87cc656b8",
       "version_major": 2,
       "version_minor": 0
      },
      "text/plain": [
       "Batches:   0%|          | 0/1 [00:00<?, ?it/s]"
      ]
     },
     "metadata": {},
     "output_type": "display_data"
    },
    {
     "name": "stdout",
     "output_type": "stream",
     "text": [
      "Shape of the vector: (768,)\n"
     ]
    },
    {
     "data": {
      "application/vnd.jupyter.widget-view+json": {
       "model_id": "9d2e9f595bd74b14981ddf6497c113cc",
       "version_major": 2,
       "version_minor": 0
      },
      "text/plain": [
       "Batches:   0%|          | 0/1 [00:00<?, ?it/s]"
      ]
     },
     "metadata": {},
     "output_type": "display_data"
    },
    {
     "name": "stdout",
     "output_type": "stream",
     "text": [
      "Shape of the vector: (768,)\n"
     ]
    },
    {
     "data": {
      "application/vnd.jupyter.widget-view+json": {
       "model_id": "e268082c6b9e4535ae71ed85a297969f",
       "version_major": 2,
       "version_minor": 0
      },
      "text/plain": [
       "Batches:   0%|          | 0/1 [00:00<?, ?it/s]"
      ]
     },
     "metadata": {},
     "output_type": "display_data"
    },
    {
     "name": "stdout",
     "output_type": "stream",
     "text": [
      "Shape of the vector: (768,)\n"
     ]
    },
    {
     "data": {
      "application/vnd.jupyter.widget-view+json": {
       "model_id": "c24bf8c3e3a74dfe994c16cbb1be4383",
       "version_major": 2,
       "version_minor": 0
      },
      "text/plain": [
       "Batches:   0%|          | 0/1 [00:00<?, ?it/s]"
      ]
     },
     "metadata": {},
     "output_type": "display_data"
    },
    {
     "name": "stdout",
     "output_type": "stream",
     "text": [
      "Shape of the vector: (768,)\n"
     ]
    },
    {
     "data": {
      "application/vnd.jupyter.widget-view+json": {
       "model_id": "29b1acda8e6e4ea795cba372fb9d7336",
       "version_major": 2,
       "version_minor": 0
      },
      "text/plain": [
       "Batches:   0%|          | 0/1 [00:00<?, ?it/s]"
      ]
     },
     "metadata": {},
     "output_type": "display_data"
    },
    {
     "name": "stdout",
     "output_type": "stream",
     "text": [
      "Shape of the vector: (768,)\n"
     ]
    },
    {
     "data": {
      "application/vnd.jupyter.widget-view+json": {
       "model_id": "5494c7d6db6b430a8ff508ef40109cb0",
       "version_major": 2,
       "version_minor": 0
      },
      "text/plain": [
       "Batches:   0%|          | 0/1 [00:00<?, ?it/s]"
      ]
     },
     "metadata": {},
     "output_type": "display_data"
    },
    {
     "name": "stdout",
     "output_type": "stream",
     "text": [
      "Shape of the vector: (768,)\n"
     ]
    },
    {
     "data": {
      "application/vnd.jupyter.widget-view+json": {
       "model_id": "ca335dadd1fe4e6ca4268646d4adb450",
       "version_major": 2,
       "version_minor": 0
      },
      "text/plain": [
       "Batches:   0%|          | 0/1 [00:00<?, ?it/s]"
      ]
     },
     "metadata": {},
     "output_type": "display_data"
    },
    {
     "name": "stdout",
     "output_type": "stream",
     "text": [
      "Shape of the vector: (768,)\n"
     ]
    },
    {
     "data": {
      "application/vnd.jupyter.widget-view+json": {
       "model_id": "d746c929279c488cb494c2eaacf17cda",
       "version_major": 2,
       "version_minor": 0
      },
      "text/plain": [
       "Batches:   0%|          | 0/1 [00:00<?, ?it/s]"
      ]
     },
     "metadata": {},
     "output_type": "display_data"
    },
    {
     "name": "stdout",
     "output_type": "stream",
     "text": [
      "Shape of the vector: (768,)\n"
     ]
    },
    {
     "data": {
      "application/vnd.jupyter.widget-view+json": {
       "model_id": "6dc7506d26064c1fb3442a4232b81552",
       "version_major": 2,
       "version_minor": 0
      },
      "text/plain": [
       "Batches:   0%|          | 0/1 [00:00<?, ?it/s]"
      ]
     },
     "metadata": {},
     "output_type": "display_data"
    },
    {
     "name": "stdout",
     "output_type": "stream",
     "text": [
      "Shape of the vector: (768,)\n"
     ]
    },
    {
     "data": {
      "application/vnd.jupyter.widget-view+json": {
       "model_id": "eeec3bec3d4d4140958919dd59564793",
       "version_major": 2,
       "version_minor": 0
      },
      "text/plain": [
       "Batches:   0%|          | 0/1 [00:00<?, ?it/s]"
      ]
     },
     "metadata": {},
     "output_type": "display_data"
    },
    {
     "name": "stdout",
     "output_type": "stream",
     "text": [
      "Shape of the vector: (768,)\n"
     ]
    },
    {
     "data": {
      "application/vnd.jupyter.widget-view+json": {
       "model_id": "68c17a2de2fc4c6ca4858db15a9a057d",
       "version_major": 2,
       "version_minor": 0
      },
      "text/plain": [
       "Batches:   0%|          | 0/1 [00:00<?, ?it/s]"
      ]
     },
     "metadata": {},
     "output_type": "display_data"
    },
    {
     "name": "stdout",
     "output_type": "stream",
     "text": [
      "Shape of the vector: (768,)\n"
     ]
    },
    {
     "data": {
      "application/vnd.jupyter.widget-view+json": {
       "model_id": "1cb58af8244d4744a3fdf17f8ef7a9a9",
       "version_major": 2,
       "version_minor": 0
      },
      "text/plain": [
       "Batches:   0%|          | 0/1 [00:00<?, ?it/s]"
      ]
     },
     "metadata": {},
     "output_type": "display_data"
    },
    {
     "name": "stdout",
     "output_type": "stream",
     "text": [
      "Shape of the vector: (768,)\n"
     ]
    },
    {
     "data": {
      "application/vnd.jupyter.widget-view+json": {
       "model_id": "7704399ca94b43179b51627572d72308",
       "version_major": 2,
       "version_minor": 0
      },
      "text/plain": [
       "Batches:   0%|          | 0/1 [00:00<?, ?it/s]"
      ]
     },
     "metadata": {},
     "output_type": "display_data"
    },
    {
     "name": "stdout",
     "output_type": "stream",
     "text": [
      "Shape of the vector: (768,)\n"
     ]
    },
    {
     "data": {
      "application/vnd.jupyter.widget-view+json": {
       "model_id": "750b6dfd17c748e18dd5d9863c4f5e63",
       "version_major": 2,
       "version_minor": 0
      },
      "text/plain": [
       "Batches:   0%|          | 0/1 [00:00<?, ?it/s]"
      ]
     },
     "metadata": {},
     "output_type": "display_data"
    },
    {
     "name": "stdout",
     "output_type": "stream",
     "text": [
      "Shape of the vector: (768,)\n"
     ]
    },
    {
     "data": {
      "application/vnd.jupyter.widget-view+json": {
       "model_id": "5f3d861d112e41b698cfaa934a6e867d",
       "version_major": 2,
       "version_minor": 0
      },
      "text/plain": [
       "Batches:   0%|          | 0/1 [00:00<?, ?it/s]"
      ]
     },
     "metadata": {},
     "output_type": "display_data"
    },
    {
     "name": "stdout",
     "output_type": "stream",
     "text": [
      "Shape of the vector: (768,)\n"
     ]
    },
    {
     "data": {
      "application/vnd.jupyter.widget-view+json": {
       "model_id": "5a514f8b6df14ffca56dd43529cdd708",
       "version_major": 2,
       "version_minor": 0
      },
      "text/plain": [
       "Batches:   0%|          | 0/1 [00:00<?, ?it/s]"
      ]
     },
     "metadata": {},
     "output_type": "display_data"
    },
    {
     "name": "stdout",
     "output_type": "stream",
     "text": [
      "Shape of the vector: (768,)\n"
     ]
    },
    {
     "data": {
      "application/vnd.jupyter.widget-view+json": {
       "model_id": "fcdce46206e54b7a83e12e46388457fe",
       "version_major": 2,
       "version_minor": 0
      },
      "text/plain": [
       "Batches:   0%|          | 0/1 [00:00<?, ?it/s]"
      ]
     },
     "metadata": {},
     "output_type": "display_data"
    },
    {
     "name": "stdout",
     "output_type": "stream",
     "text": [
      "Shape of the vector: (768,)\n"
     ]
    },
    {
     "data": {
      "application/vnd.jupyter.widget-view+json": {
       "model_id": "be3a9abc58864336a529a36373f7a403",
       "version_major": 2,
       "version_minor": 0
      },
      "text/plain": [
       "Batches:   0%|          | 0/1 [00:00<?, ?it/s]"
      ]
     },
     "metadata": {},
     "output_type": "display_data"
    },
    {
     "name": "stdout",
     "output_type": "stream",
     "text": [
      "Shape of the vector: (768,)\n"
     ]
    },
    {
     "data": {
      "application/vnd.jupyter.widget-view+json": {
       "model_id": "02c59397fb98489eb1f11876490c3e0e",
       "version_major": 2,
       "version_minor": 0
      },
      "text/plain": [
       "Batches:   0%|          | 0/1 [00:00<?, ?it/s]"
      ]
     },
     "metadata": {},
     "output_type": "display_data"
    },
    {
     "name": "stdout",
     "output_type": "stream",
     "text": [
      "Shape of the vector: (768,)\n"
     ]
    },
    {
     "data": {
      "application/vnd.jupyter.widget-view+json": {
       "model_id": "db2a3a4367b0493d9e4afc1354f78f22",
       "version_major": 2,
       "version_minor": 0
      },
      "text/plain": [
       "Batches:   0%|          | 0/1 [00:00<?, ?it/s]"
      ]
     },
     "metadata": {},
     "output_type": "display_data"
    },
    {
     "name": "stdout",
     "output_type": "stream",
     "text": [
      "Shape of the vector: (768,)\n"
     ]
    },
    {
     "data": {
      "application/vnd.jupyter.widget-view+json": {
       "model_id": "f123f123f2ba4f288ad23a2b5338ec8f",
       "version_major": 2,
       "version_minor": 0
      },
      "text/plain": [
       "Batches:   0%|          | 0/1 [00:00<?, ?it/s]"
      ]
     },
     "metadata": {},
     "output_type": "display_data"
    },
    {
     "name": "stdout",
     "output_type": "stream",
     "text": [
      "Shape of the vector: (768,)\n"
     ]
    },
    {
     "data": {
      "text/plain": [
       "array([-4.36107963e-02, -2.85593532e-02, -5.36731668e-02,  8.87268186e-02,\n",
       "        4.92947921e-02,  2.16004699e-02, -1.24554038e-02,  3.12559791e-02,\n",
       "        3.14569995e-02,  1.93744805e-02,  4.65708449e-02,  7.75612593e-02,\n",
       "       -6.96181972e-03,  4.17182781e-02, -1.53666250e-02, -5.87033890e-02,\n",
       "       -3.97401042e-02,  2.02280004e-03, -3.72142391e-03,  1.81982783e-03,\n",
       "       -6.34902203e-03, -1.87578723e-02,  1.01454407e-02, -2.06669103e-02,\n",
       "        6.53604642e-02, -1.16215926e-02,  2.09548250e-02,  1.80853400e-02,\n",
       "        4.71785143e-02, -4.51582596e-02, -3.30339372e-02, -7.94724524e-02,\n",
       "        3.49714309e-02,  2.18167771e-02,  2.13386238e-06, -2.68752221e-02,\n",
       "        3.07219606e-02, -5.75455837e-03, -1.94926392e-02, -9.64277983e-03,\n",
       "        4.39838283e-02,  7.33801723e-02, -2.97792256e-02, -3.74800600e-02,\n",
       "       -1.49240866e-02,  7.23522948e-03,  1.71101484e-02, -3.71705741e-02,\n",
       "        3.25852856e-02,  6.93616495e-02, -1.82072297e-02,  4.11012694e-02,\n",
       "       -7.68169239e-02, -7.80583173e-03,  2.40273476e-02,  3.15658823e-02,\n",
       "       -5.68455867e-02, -7.46515691e-02,  1.27762547e-02,  9.02823824e-03,\n",
       "        7.68907089e-03, -2.26436518e-02, -1.93015598e-02,  5.73448986e-02,\n",
       "        6.13896595e-03,  9.17498581e-03, -5.50399013e-02, -3.73804793e-02,\n",
       "       -1.25043597e-02, -1.42996600e-02,  1.36180753e-02,  2.90979128e-02,\n",
       "        3.39908116e-02,  1.45783173e-02, -1.70281623e-02, -2.90301852e-02,\n",
       "        4.64430489e-02, -8.55711871e-04, -4.58357185e-02,  2.77666897e-02,\n",
       "       -2.59207767e-02,  5.91649935e-02, -5.28446678e-03,  1.62613019e-02,\n",
       "        1.45864598e-02,  4.70645390e-02,  1.97018534e-02,  3.07015609e-02,\n",
       "       -1.45215308e-02,  4.09108773e-02,  9.82444175e-03,  3.56816649e-02,\n",
       "        1.06364945e-02, -5.87869668e-03,  2.44027637e-02, -4.29281294e-02,\n",
       "        2.56036259e-02, -3.50494459e-02,  5.18604293e-02,  2.95726974e-02,\n",
       "        2.52191350e-02, -2.07381342e-02,  5.66997007e-02,  5.75620262e-03,\n",
       "       -4.28265184e-02, -3.25027518e-02,  1.09538324e-02, -2.73603816e-02,\n",
       "       -3.01227011e-02,  1.29303886e-02,  1.24964556e-02, -1.08433992e-03,\n",
       "        1.40237818e-02,  2.53727678e-02, -6.86761588e-02,  7.73655670e-03,\n",
       "       -6.30879998e-02, -7.44997896e-03,  2.82082129e-02, -3.31271626e-02,\n",
       "       -4.72390726e-02,  9.67326481e-03,  3.95520730e-03, -5.13192527e-02,\n",
       "       -4.63783788e-03, -6.06813021e-02, -1.99112687e-02,  3.44421156e-02,\n",
       "       -3.27087119e-02,  4.13164161e-02,  2.26125866e-02, -1.84579454e-02,\n",
       "        1.06329182e-02,  8.26858263e-03,  2.86656385e-03,  2.83784699e-03,\n",
       "        7.16420263e-02, -1.84882712e-02, -1.90855023e-02,  1.45713449e-03,\n",
       "        1.82037205e-02, -3.02941538e-02, -4.18360233e-02, -3.79101299e-02,\n",
       "        3.23206596e-02, -1.93352476e-02, -1.31821819e-03,  3.57089974e-02,\n",
       "       -3.58170159e-02,  2.04782523e-02,  3.12046595e-02,  1.20656248e-02,\n",
       "        4.26416285e-02,  9.07649565e-03,  6.83167502e-02,  7.64396135e-03,\n",
       "        5.46341352e-02,  2.07777489e-02,  4.20974381e-02,  1.92152932e-02,\n",
       "       -2.28654523e-03,  1.68009736e-02, -4.55545634e-02, -1.45339780e-02,\n",
       "        8.95404071e-03,  1.88446473e-02,  7.24602416e-02, -1.37808186e-03,\n",
       "        7.18478411e-02, -7.57143542e-04, -1.78241730e-02, -5.78815117e-02,\n",
       "       -6.35919720e-03,  2.92523336e-02,  2.67140660e-02,  5.40061854e-03,\n",
       "       -2.38171034e-02,  3.47548574e-02, -8.32368154e-03, -5.56969903e-02,\n",
       "       -3.60495672e-02, -4.28438969e-02,  2.97791716e-02, -4.74255532e-02,\n",
       "        1.20165147e-01,  3.52972150e-02,  7.78037496e-03,  8.88416395e-02,\n",
       "       -2.34582694e-03, -4.14808141e-03, -1.62403174e-02, -7.34010711e-03,\n",
       "        2.44142618e-02, -1.45007074e-02,  2.44347285e-02, -2.05060132e-02,\n",
       "       -3.25458497e-02, -8.99349991e-03,  1.97860431e-02, -2.81737763e-02,\n",
       "        3.36015187e-02,  4.04946432e-02, -2.12477930e-02,  1.48255406e-02,\n",
       "       -6.80673569e-02,  2.30441224e-02,  6.21197112e-02,  2.07912307e-02,\n",
       "        3.81877534e-02,  1.04170563e-02,  2.77302731e-02,  4.43595797e-02,\n",
       "        4.49969210e-02, -2.69007832e-02,  1.98129248e-02,  2.39726901e-02,\n",
       "        2.16022450e-02,  4.59584072e-02, -2.21724659e-02,  8.29100460e-02,\n",
       "        1.81232207e-02,  4.88140881e-02, -7.36780688e-02,  5.69331041e-03,\n",
       "       -2.07401738e-02,  2.36633066e-02,  1.76692437e-02, -8.11697543e-03,\n",
       "       -2.96118893e-02,  1.56148635e-02,  3.18307616e-03, -4.53189993e-03,\n",
       "        5.18616196e-03, -3.37716118e-02,  5.36241792e-02, -2.03454141e-02,\n",
       "        5.63471764e-02,  5.92049398e-02,  4.39042337e-02, -3.32477130e-02,\n",
       "        1.35006132e-02, -1.06768487e-02,  2.53566764e-02,  8.95110145e-03,\n",
       "       -2.60826051e-02,  1.55562684e-02,  3.39082964e-02,  2.56815311e-02,\n",
       "       -2.12271269e-02,  5.10453954e-02, -1.05169062e-02, -1.02550560e-03,\n",
       "        3.97547428e-03,  5.53785078e-02, -4.01487434e-03,  6.71069920e-02,\n",
       "       -2.51722522e-02, -2.34812871e-02, -6.52055591e-02,  1.25191417e-02,\n",
       "       -1.40618943e-02,  3.38151902e-02, -1.90853383e-02, -6.35566143e-03,\n",
       "        2.72803623e-02,  3.14656757e-02, -4.67660651e-02, -4.85851318e-02,\n",
       "        6.76974934e-03, -1.59272403e-02,  4.94719632e-02,  6.58614154e-04,\n",
       "       -1.72392502e-02, -2.45655924e-02,  4.41742688e-03,  1.97693557e-02,\n",
       "        6.13566861e-02,  5.33943204e-03, -4.57783416e-02, -1.00073125e-02,\n",
       "       -1.60813667e-02, -1.58873107e-02,  2.71325447e-02,  5.79857454e-02,\n",
       "        7.03344587e-03,  4.39714454e-02,  5.55580258e-02,  8.19677301e-03,\n",
       "       -2.49500405e-02, -1.06779616e-02, -1.72249321e-02,  1.25490862e-03,\n",
       "        2.09935233e-02,  1.04198521e-02,  3.80284991e-03,  4.11446244e-02,\n",
       "        9.39965844e-02, -3.41928005e-02,  9.37752775e-04, -6.03996702e-02,\n",
       "        6.21468574e-02, -8.11773464e-02,  9.81245749e-03,  6.98583852e-03,\n",
       "       -5.07921576e-02, -3.47418413e-02, -4.71482463e-02, -6.25007153e-02,\n",
       "       -3.91557105e-02,  1.59187708e-02,  8.98554083e-03,  2.12580524e-02,\n",
       "       -3.55465040e-02, -8.89163185e-03, -3.70517373e-02,  4.57600169e-02,\n",
       "        1.00160390e-02,  5.37564270e-02, -1.45696970e-02,  4.41168360e-02,\n",
       "       -3.98263661e-03, -1.58052817e-02,  5.29757235e-03, -1.64726228e-02,\n",
       "       -2.62149218e-02, -7.98683316e-02,  2.56234836e-02, -3.09534967e-02,\n",
       "        1.47627695e-02,  3.98623087e-02,  3.16161662e-02, -1.93803925e-02,\n",
       "        5.71522377e-02,  5.23507297e-02, -2.23959088e-02, -1.40740816e-02,\n",
       "       -1.65032391e-02, -1.41843678e-02, -3.62667930e-03,  1.44809335e-02,\n",
       "        2.76444331e-02, -2.40482073e-02,  4.08403762e-02,  1.53995492e-02,\n",
       "       -2.72902697e-02, -7.30362833e-02, -6.24153130e-02,  2.94957682e-02,\n",
       "        3.60005610e-02, -7.37991557e-02,  7.21577508e-03,  5.77109158e-02,\n",
       "        2.68364567e-02,  4.47217338e-02,  4.55405153e-02,  1.88401807e-02,\n",
       "        1.41001986e-02, -5.33093791e-03,  8.53656419e-03,  1.30570224e-02,\n",
       "        5.05081378e-02,  8.00237283e-02, -3.95138115e-02, -9.76889394e-03,\n",
       "        1.20223043e-02, -1.84005685e-02, -2.08290573e-02, -6.65797442e-02,\n",
       "       -7.34101012e-02,  4.02867682e-02,  4.80726473e-02, -1.02914767e-02,\n",
       "       -5.30317910e-02, -1.97979920e-02, -2.47447472e-02, -7.36675858e-02,\n",
       "        1.16711883e-02, -8.00877623e-03,  7.04368055e-02,  3.40470076e-02,\n",
       "       -2.16095839e-02,  3.31471376e-02,  5.19685298e-02, -1.18221715e-02,\n",
       "        6.77186325e-02, -4.31223959e-02,  7.68413693e-02,  1.47950212e-02,\n",
       "        1.39894085e-02,  3.88253219e-02,  3.12154833e-02, -5.23682162e-02,\n",
       "        3.15124243e-02, -1.03234304e-02,  6.37178402e-03, -1.77642964e-02,\n",
       "       -9.32012722e-02, -8.36862922e-02,  7.76054943e-03,  3.95727996e-03,\n",
       "       -1.53003354e-02,  9.19957086e-03,  4.69164513e-02, -6.27950504e-02,\n",
       "       -6.57187030e-02,  2.51251459e-02,  7.74683943e-03, -2.20637838e-03,\n",
       "       -4.85940930e-03, -4.17943411e-02,  3.01629351e-03,  3.40315290e-02,\n",
       "        2.43910681e-02, -2.07790677e-02,  3.81060727e-02, -2.37460304e-02,\n",
       "        1.88206846e-03, -8.21823254e-04, -1.19060930e-03, -3.15169580e-02,\n",
       "       -4.36004549e-02,  6.96040466e-02,  3.74796614e-02,  4.88421060e-02,\n",
       "        6.99381679e-02,  6.12776959e-03,  1.92345306e-02,  4.02848348e-02,\n",
       "       -4.75212485e-02,  1.17631555e-02,  5.04754260e-02, -2.98529933e-03,\n",
       "       -3.64542194e-02,  3.96833271e-02, -5.12496307e-02, -7.92713761e-02,\n",
       "       -3.21993046e-02,  3.15601937e-02,  5.61438967e-03, -3.31190899e-02,\n",
       "       -5.82502335e-02,  1.83761436e-02,  1.99699942e-02, -4.63096946e-02,\n",
       "       -4.66059782e-02, -5.84015585e-02, -1.15420192e-03, -2.94017210e-03,\n",
       "        5.02865668e-03,  1.71893672e-03,  5.85649256e-03,  3.99819985e-02,\n",
       "       -1.79535970e-02,  2.53680330e-02,  9.36183240e-03,  1.71576608e-02,\n",
       "        4.50372919e-02, -8.25413540e-02, -5.23287756e-03,  4.38863039e-02,\n",
       "        3.08550452e-03,  9.99747682e-03,  1.70957968e-02,  9.65054799e-03,\n",
       "        5.77099770e-02, -4.44079712e-02, -3.35094109e-02, -5.37494048e-02,\n",
       "        6.08921349e-02, -3.70296463e-02,  2.99041513e-02, -3.94738466e-02,\n",
       "       -1.82433147e-02,  2.26397458e-02,  6.55615516e-03,  7.08520710e-02,\n",
       "       -2.22511385e-02, -7.10305870e-02, -4.34739664e-02, -2.51780469e-02,\n",
       "       -8.47055670e-03,  8.00134465e-02, -8.50799866e-03,  8.78500566e-03,\n",
       "        6.77319476e-03, -2.04846971e-02,  2.41931248e-03,  2.46904101e-02,\n",
       "       -4.81401794e-02, -1.22841457e-02, -2.52516754e-02, -4.50806832e-03,\n",
       "       -3.41307633e-02, -2.81265546e-02, -1.46378828e-02,  4.04901803e-02,\n",
       "       -7.40919188e-02, -1.97452027e-02,  2.41770949e-02, -2.22647563e-02,\n",
       "       -8.83404817e-03,  2.93012634e-02,  1.79124754e-02,  2.51102243e-02,\n",
       "       -3.53466459e-02,  6.54863752e-03, -3.84612419e-02, -3.58612537e-02,\n",
       "       -1.22594996e-04, -2.71968003e-02, -4.21242639e-02, -2.19247956e-02,\n",
       "        7.27919936e-02,  2.20923107e-02, -4.73543517e-02,  6.69281110e-02,\n",
       "        5.22606783e-02,  1.45627465e-02,  2.58761216e-02, -1.30576473e-02,\n",
       "       -1.57682095e-02, -9.03841667e-03, -1.46195143e-02, -5.05281910e-02,\n",
       "       -4.90472512e-03, -9.87230917e-04,  7.46342167e-03, -2.02611852e-02,\n",
       "        2.71538645e-02, -1.49302837e-02,  3.45539637e-02,  1.39500899e-02,\n",
       "        8.11188295e-02, -5.67935742e-02,  2.55224947e-02,  4.13183868e-02,\n",
       "       -3.41110416e-02,  3.20077278e-02, -5.31910323e-02, -2.82364544e-02,\n",
       "       -2.63087843e-02, -4.96889241e-02, -4.14007530e-02,  5.01612760e-03,\n",
       "       -7.29866512e-03,  1.58764645e-02,  2.11236216e-02, -2.55695675e-02,\n",
       "       -1.44002661e-02, -1.75391734e-02,  5.46942465e-03, -1.11105936e-02,\n",
       "       -1.66340210e-02, -1.63322669e-02, -6.28155917e-02, -6.18686187e-33,\n",
       "        5.82471043e-02,  2.24793609e-02,  2.50633229e-02, -1.49347102e-02,\n",
       "       -5.07153757e-02,  2.01521739e-02, -8.02190322e-03,  3.18813771e-02,\n",
       "        1.80143118e-02, -2.22680345e-02,  2.92874034e-02, -1.73094198e-02,\n",
       "       -1.27204517e-02, -5.24597019e-02, -2.23378818e-02,  1.13408174e-02,\n",
       "       -1.09774908e-02,  2.55603641e-02, -1.41423680e-02, -3.52703445e-02,\n",
       "       -2.24857498e-02,  3.66036035e-02, -4.33154637e-03, -2.80854963e-02,\n",
       "        1.75784540e-03, -1.31993052e-02, -3.26716267e-02, -2.59005148e-02,\n",
       "       -3.01568732e-02, -1.75624317e-03,  1.52352620e-02, -5.45815623e-04,\n",
       "        4.39041946e-03, -6.93617538e-02, -7.31477793e-03, -3.87741178e-02,\n",
       "        2.74499413e-02,  3.63806933e-02, -1.61523446e-02,  1.83110777e-02,\n",
       "        2.24228483e-02, -9.69353691e-02,  6.65738829e-04, -4.94974013e-03,\n",
       "        1.30722653e-02, -5.58615886e-02,  1.55447023e-02,  1.25833107e-02,\n",
       "       -2.88779400e-02,  3.33497711e-02,  3.52306589e-02,  1.41828191e-02,\n",
       "        2.83855945e-02,  1.22602899e-02,  2.93483529e-02, -5.85358404e-02,\n",
       "       -2.67268834e-03, -4.73034801e-03, -2.23582778e-02,  2.07114592e-02,\n",
       "       -2.16759201e-02,  2.72714831e-02, -1.44543713e-02, -2.75060572e-02,\n",
       "       -1.68693364e-02, -1.27700055e-02, -3.96400057e-02, -5.80771118e-02,\n",
       "       -8.48430172e-02,  3.09134461e-02, -2.29865611e-02,  1.83748140e-03,\n",
       "        2.99923737e-02, -1.99862942e-02, -5.06744422e-02,  1.34306839e-02,\n",
       "       -2.66543403e-03, -2.70899571e-02, -1.77663118e-02, -3.61539833e-02,\n",
       "       -4.46881019e-02, -1.17218923e-02, -6.62444606e-02, -2.48913355e-02,\n",
       "       -3.01230159e-02, -2.01892331e-02, -2.90910956e-02, -5.06785931e-03,\n",
       "        1.73058175e-02, -1.74143421e-03, -2.33581383e-02,  4.23766524e-02,\n",
       "       -5.81606627e-02, -7.93792866e-03,  5.20141190e-03, -4.23593586e-03,\n",
       "        3.36530544e-02, -2.62316465e-02, -2.94364500e-03,  5.70810575e-04,\n",
       "       -1.13826701e-02,  8.81923921e-03, -1.12719394e-01,  2.35087331e-02,\n",
       "        1.88463014e-02, -7.17835799e-02, -7.82460049e-02, -1.14776623e-02,\n",
       "       -9.70900524e-03,  6.60267174e-02,  2.68623792e-02, -6.25515655e-02,\n",
       "       -1.67633649e-02,  2.23913565e-02,  2.09788196e-02, -2.74927635e-02,\n",
       "       -5.66730928e-03,  9.52519551e-02, -1.01748528e-02, -5.17925546e-02,\n",
       "        4.89605637e-03, -2.60412265e-02,  4.15881127e-02,  3.04426849e-02,\n",
       "       -1.17127923e-03, -1.29685486e-02,  5.12332097e-03,  7.69117549e-02,\n",
       "        1.93869055e-03,  6.26071021e-02, -1.98818389e-02,  4.25962023e-02,\n",
       "        2.80908978e-07, -4.17297706e-02,  2.39917524e-02, -4.45044711e-02,\n",
       "       -8.52336362e-02, -2.64106318e-02,  2.00081766e-02,  3.01429313e-02,\n",
       "        1.29011786e-02, -2.02478599e-02,  1.65854637e-02,  5.25479496e-04,\n",
       "        3.56284007e-02, -2.26518307e-02,  4.02889363e-02,  1.66663472e-02,\n",
       "       -1.00616012e-02, -2.23333966e-02,  3.54002938e-02, -2.08287053e-02,\n",
       "       -3.09142619e-02,  2.91743362e-03,  5.81419058e-02,  5.03794253e-02,\n",
       "        2.97004804e-02, -1.08254207e-02, -9.06630140e-03,  1.15352320e-02,\n",
       "       -4.77226861e-02,  3.26877763e-03,  4.63150488e-03, -6.24013469e-02,\n",
       "       -5.64835407e-03, -4.47409414e-02, -1.06980629e-01,  1.96453594e-02,\n",
       "       -2.67959218e-02,  3.09266970e-02,  6.26871586e-02,  4.62043285e-02,\n",
       "        7.02748597e-02, -6.25829119e-03,  4.14988175e-02, -1.59837194e-02,\n",
       "       -5.68078756e-02, -5.25921136e-02,  4.66499617e-03,  2.15432029e-02,\n",
       "       -2.72749942e-02, -4.16807784e-03, -1.53697981e-02,  1.09448866e-03,\n",
       "        1.23794889e-02,  1.14780981e-02, -9.23955115e-04,  1.93290655e-02,\n",
       "       -5.13662025e-03, -2.63342503e-02, -1.30821392e-02,  1.10521074e-02,\n",
       "       -3.80317904e-02, -4.18597758e-02,  3.03438772e-02, -4.18594927e-02,\n",
       "        1.00692518e-01,  5.05131334e-02, -5.91635481e-02, -1.63963120e-02,\n",
       "        2.38409563e-34, -1.18726149e-01, -3.99387479e-02,  1.46302418e-03,\n",
       "       -1.40141472e-02, -1.99912321e-02, -1.70331739e-03, -1.12867923e-02,\n",
       "       -2.61969138e-02,  1.40212271e-02,  2.75345650e-02,  1.58686452e-02],\n",
       "      dtype=float32)"
      ]
     },
     "execution_count": 11,
     "metadata": {},
     "output_type": "execute_result"
    }
   ],
   "source": [
    "embedding_model = SentenceTransformer(\"all-mpnet-base-v2\")\n",
    "\n",
    "embeddings = []\n",
    "for article in travel_articles:\n",
    "    embedding = embedding_model.encode(article, show_progress_bar=True)\n",
    "    embeddings.append(embedding)\n",
    "    print(f\"Shape of the vector: {embedding.shape}\")\n",
    "\n",
    "embeddings[17]"
   ]
  },
  {
   "cell_type": "markdown",
   "metadata": {},
   "source": [
    "## Define User Request\n",
    "\n",
    "We will define a user request. This is a question that we would like to ask the model. We will calculate the embedding for this question and use it to retrieve the most relevant articles from the travel articles by comparing the vector of the User Request to the other vectors we just calculated above.\n",
    "\n",
    "<img src=\"images/2_define_UR.png\" alt=\"Image description\" width=\"200\">  \n"
   ]
  },
  {
   "cell_type": "code",
   "execution_count": 12,
   "metadata": {},
   "outputs": [],
   "source": [
    "# Provide the User Request as a string, e.g., user_request = \"I want to travel to a Greek Island that is famous this season for snorkeling.\"\n",
    "user_request = \"I want to travel to a Greek Island that is famous this season for snorkeling. Which one would you recommend to me?\""
   ]
  },
  {
   "cell_type": "markdown",
   "metadata": {},
   "source": [
    "## Calculate the embeddings for the User Request\n",
    "\n",
    "In the same fashion as before, we calculate the embeddings for the User Request using the same sentence transformer model that we used before - `all-mpnet-base-v2`.\n",
    "\n",
    "The vector will have the same shape as the vectors we calculated for the travel articles. Had we used a different model, the vectors would likely have been of a different size. In any event, this would have made it impossible to compare the vectors, we would compare apples to oranges.\n",
    "\n",
    "<img src=\"images/3_calculate_embeddings.png\" alt=\"Image description\" width=\"200\">  \n"
   ]
  },
  {
   "cell_type": "code",
   "execution_count": 13,
   "metadata": {},
   "outputs": [
    {
     "name": "stdout",
     "output_type": "stream",
     "text": [
      "Shape of the user request vector: (768,)\n"
     ]
    }
   ],
   "source": [
    "user_request_embedding = embedding_model.encode(user_request)\n",
    "\n",
    "print(f\"Shape of the user request vector: {user_request_embedding.shape}\")"
   ]
  },
  {
   "cell_type": "markdown",
   "metadata": {},
   "source": [
    "## Select the N most similar articles\n",
    "\n",
    "We will compare the User Request vector to the vectors of the travel articles. There are different ways to compare vectors. For simplicity, we will use the cosine similarity.\n",
    "\n",
    "In principle, we could select any number N of articles. To honor token limits (globally for the endpoint we are using and locally in each request), we will select the top 3 articles.\n",
    "\n",
    "<img src=\"images/4_select_n.png\" alt=\"Image description\" width=\"200\">  \n"
   ]
  },
  {
   "cell_type": "code",
   "execution_count": 14,
   "metadata": {},
   "outputs": [],
   "source": [
    "def distance_between_vector_and_vectors(\n",
    "    vector: np.ndarray, vectors_array: np.ndarray\n",
    "    ) -> np.ndarray:\n",
    "    \"\"\"\n",
    "    Calculate the cosine similarities between a single vector and an array of vectors.\n",
    "\n",
    "    Args:\n",
    "        vector: A single vector\n",
    "        vectors_array: An array of vectors\n",
    "    \n",
    "    Returns:\n",
    "        An array of cosine similarities\n",
    "    \"\"\"\n",
    "    dot_products = np.dot(vectors_array, vector)\n",
    "\n",
    "    # Calculate the magnitudes of all vectors in vectors_array\n",
    "    magnitudes = np.sqrt(np.sum(np.square(vectors_array), axis=1))\n",
    "\n",
    "    # Calculate the magnitude of vector\n",
    "    magnitude_1 = np.linalg.norm(vector)\n",
    "\n",
    "    # Calculate the cosine similarities between vector and all vectors in vectors_array\n",
    "    similarities = dot_products / (magnitude_1 * magnitudes)\n",
    "\n",
    "    return similarities\n"
   ]
  },
  {
   "cell_type": "code",
   "execution_count": 15,
   "metadata": {},
   "outputs": [
    {
     "name": "stdout",
     "output_type": "stream",
     "text": [
      "Most similar articles are articles numbers: [9, 13, 36] with similarities: [0.70965517 0.6991749  0.6891067 ]\n"
     ]
    }
   ],
   "source": [
    "k = 3 # You can increase this number, but you might run into a token limit\n",
    "\n",
    "distances = distance_between_vector_and_vectors(\n",
    "    vector=user_request_embedding,\n",
    "    vectors_array=embeddings\n",
    ")\n",
    "\n",
    "idx_of_most_similar = list((-distances).argsort()[:k])\n",
    "\n",
    "print(f\"Most similar articles are articles numbers: {idx_of_most_similar} with similarities: {distances[idx_of_most_similar]}\")"
   ]
  },
  {
   "cell_type": "markdown",
   "metadata": {},
   "source": [
    "## Retrieve the text corresponding to the most similar articles embeddings\n",
    "\n",
    "We will retrieve the text of the most similar articles. We do this by looking up the index of the most similar articles in the list of travel articles.\n",
    "\n",
    "Check if the articles make sense and are relevant to the user request that you defined.\n",
    "\n",
    "<img src=\"images/5_retrieve_text.png\" alt=\"Image description\" width=\"200\">  \n"
   ]
  },
  {
   "cell_type": "code",
   "execution_count": 16,
   "metadata": {},
   "outputs": [
    {
     "name": "stdout",
     "output_type": "stream",
     "text": [
      "Article 1\n"
     ]
    },
    {
     "data": {
      "text/markdown": [
       "Title: Dive into the Mesmerizing Underwater World of Syros: The Ultimate Snorkeling Paradise\n",
       "\n",
       "Introduction\n",
       "\n",
       "Golden beaches, crystal-clear waters, and a rich cultural heritage – welcome to Syros, the c"
      ],
      "text/plain": [
       "<IPython.core.display.Markdown object>"
      ]
     },
     "metadata": {},
     "output_type": "display_data"
    },
    {
     "name": "stdout",
     "output_type": "stream",
     "text": [
      "Article 2\n"
     ]
    },
    {
     "data": {
      "text/markdown": [
       "Title: Discover the Underwater Wonderland of Kythnos: The World's Best Snorkeling Destination\n",
       "\n",
       "Introduction\n",
       "\n",
       "Nestled in the heart of the Cyclades, the enchanting island of Kythnos is one of Greece's b"
      ],
      "text/plain": [
       "<IPython.core.display.Markdown object>"
      ]
     },
     "metadata": {},
     "output_type": "display_data"
    },
    {
     "name": "stdout",
     "output_type": "stream",
     "text": [
      "Article 3\n"
     ]
    },
    {
     "data": {
      "text/markdown": [
       "Title: Crete: Dive into the Ultimate Ocean Swimming Paradise\n",
       "\n",
       "Introduction\n",
       "\n",
       "The island of Crete, the largest and most populous of the Greek islands, has long been renowned for its crystal-clear waters"
      ],
      "text/plain": [
       "<IPython.core.display.Markdown object>"
      ]
     },
     "metadata": {},
     "output_type": "display_data"
    }
   ],
   "source": [
    "most_similar_articles = [travel_articles[i] for i in idx_of_most_similar]\n",
    "\n",
    "for i, article in enumerate(most_similar_articles):\n",
    "    print(f\"Article {i+1}\")\n",
    "    display(Markdown(article[:200]))"
   ]
  },
  {
   "cell_type": "markdown",
   "metadata": {},
   "source": [
    "## Augment the Prompt with the retrieved text\n",
    "\n",
    "We will augment the prompt with the retrieved text. This will provide the model with the private domain knowledge it would otherwise not know about and that it can use to generate a more accurate response.\n",
    "\n",
    "<img src=\"images/6_augment_prompt.png\" alt=\"Image description\" width=\"200\">  \n"
   ]
  },
  {
   "cell_type": "markdown",
   "metadata": {},
   "source": [
    "### Set the character (system message) below as a string. \n",
    "\n",
    "Set the character (system message) below as a string. \n",
    "\n",
    "When using the OpenAI API, both setting a system message and including the character in the prompt will serve to guide the model's behavior.\n",
    "A system message is often used with OpenAI's Chat API, where the conversation occurs in a more interactive and dynamic manner. By using a system message, you can provide instructions or context to the AI model. This message isn't counted towards the token limit. However, it may have less influence on the response compared to including the character directly in the prompt.\n",
    "\n",
    "Some example system messages are:\n",
    "- You are a marketing writing assistant. You help come up with creative content ideas and content like marketing emails, blog posts, tweets, ad copy and product descriptions. You write in a friendly yet professional tone but can tailor your writing style that best works for a user-specified audience. If you do not know the answer to a question, respond by saying \"I do not know the answer to your question.\"\n",
    "- Assistant is an AI chatbot that helps users turn a natural language list into JSON format. After users input a list they want in JSON format, it will provide suggested list of attribute labels if the user has not provided any, then ask the user to confirm them before creating the list.\n",
    "- You are an Xbox customer support agent whose primary goal is to help users with issues they are experiencing with their Xbox devices. You are friendly and concise. You only provide factual answers to queries, and do not provide answers that are not related to Xbox."
   ]
  },
  {
   "cell_type": "code",
   "execution_count": 17,
   "metadata": {},
   "outputs": [],
   "source": [
    "# Set the character\n",
    "character = \"You are a seasoned travel agent with the primary goal to help users looking to plan a vacation in Greece. You write in a friendly yet professional tone.\""
   ]
  },
  {
   "cell_type": "markdown",
   "metadata": {},
   "source": [
    "Next, we have to build the question to ask the model enriched with the information from the embeddings.\n",
    "\n",
    "Below you find an example how the augmented prompt could look like (using the `user request` that you defined). You can use this as a template to build your own question if you want."
   ]
  },
  {
   "cell_type": "code",
   "execution_count": 18,
   "metadata": {},
   "outputs": [
    {
     "data": {
      "text/markdown": [
       "Use the below travel articles about Greek Islands from the current travel season to answer the subsequent question. If the answer cannot be found in the articles, write \"I could not find an answer.\" \n",
       "\n",
       " Question: I want to travel to a Greek Island that is famous this season for snorkeling. Which one would you recommend to me? \n",
       "\n",
       " The travel articles follow below: \n",
       "\n",
       "Title: Dive into the Mesmerizing Underwater World of Syros: The Ultimate Snorkeling Paradise\n",
       "\n",
       "Introduction\n",
       "\n",
       "Golden beaches, crystal-clear waters, and a rich cultural heritage – welcome to Syros, the crown jewel of the Cyclades Islands in Greece. With its neoclassical mansions, labyrinthine streets, and captivating history, Syros has long been a favorite destination for discerning travelers. But what truly sets this enchanting island apart is its unparalleled snorkeling opportunities. In fact, Syros has earned a well-deserved reputation as the world's best snorkeling destination. So pack your bags, grab your snorkel gear, and join us on a journey to explore the underwater wonders that await you in this sun-soaked paradise.\n",
       "\n",
       "The Perfect Snorkeling Destination\n",
       "\n",
       "The pristine waters surrounding Syros boast an astonishing array of marine life, coral formations, and underwater caves that can't be found anywhere else in the world. The island's unique geological features have created a diverse underwater ecosystem, teeming with vibrant fish, colorful corals, and mysterious sea creatures that will leave even the most seasoned snorkeler in awe. The clarity of the water – with visibility of up to 50 meters – ensures that every snorkeling adventure is an unforgettable experience.\n",
       "\n",
       "A Snorkeler's Dream: The Breathtaking Dive Sites of Syros\n",
       "\n",
       "With dozens of snorkeling sites scattered around the island, Syros has something for everyone – from beginners to seasoned pros. Here are just a few of the must-visit spots that have made Syros famous among snorkeling enthusiasts worldwide:\n",
       "\n",
       "1. The Coral Gardens: Located just off the coast of Syros, this shallow reef is brimming with a wide variety of coral species and an abundance of marine life. Expect to encounter parrotfish, angelfish, damselfish, and countless other colorful species as you glide through this mesmerizing underwater garden.\n",
       "\n",
       "2. The Shipwreck of Agios Nikolaos: Dive into history as you explore the remains of this 19th-century shipwreck, which has become an artificial reef teeming with marine life. The wreck sits at a depth of 12 meters and is home to schools of fish, octopuses, and even the occasional sea turtle.\n",
       "\n",
       "3. The Caverns of Kini: This intricate network of underwater caves and tunnels is a playground for experienced snorkelers. Navigate through the labyrinthine passageways, marveling at the stunning coral formations and the ethereal shafts of sunlight that pierce the darkness.\n",
       "\n",
       "4. The Dolphin's Playground: This aptly-named site is a favorite hangout for a pod of friendly dolphins that love to interact with snorkelers. With a little luck, you'll find yourself swimming alongside these playful creatures, creating memories that will last a lifetime.\n",
       "\n",
       "5. The Seahorse Sanctuary: Tucked away in a secluded cove, this magical spot is home to a thriving population of seahorses – one of the ocean's most enchanting and elusive creatures. Watch in wonder as these graceful beings dance and twirl through the water, their delicate features and intricate markings on full display.\n",
       "\n",
       "Snorkeling Tours and Courses: Enhance Your Experience\n",
       "\n",
       "Whether you're a first-time snorkeler or a seasoned pro, Syros offers a range of guided tours and courses to help you make the most of your underwater adventures. Expert guides will take you to the island's best snorkeling spots, sharing their knowledge of the local marine life and ensuring your safety at all times. For those looking to improve their skills, a variety of PADI-certified courses are available, from beginner lessons to advanced freediving techniques.\n",
       "\n",
       "Family-Friendly Fun: Snorkeling for All Ages\n",
       "\n",
       "Snorkeling is an activity that can be enjoyed by the entire family, and Syros is the perfect destination for introducing your little ones to the wonders of the underwater world. With its calm, shallow waters and abundance of marine life, the island offers a safe and exciting environment for children to learn about the ocean and its inhabitants. Many of the island's snorkeling operators offer special programs and equipment tailored for young explorers, ensuring that your family vacation is filled with unforgettable experiences.\n",
       "\n",
       "Beyond Snorkeling: Discover the Rich Culture of Syros\n",
       "\n",
       "When you're not exploring the island's underwater treasures, Syros offers a wealth of cultural experiences to enjoy. Stroll through the charming streets of Ermoupoli, the island's capital, and marvel at the elegant neoclassical architecture that harks back to a bygone era. Visit the impressive Apollo Theatre, a miniature replica of Milan's famous La Scala opera house, and catch a performance by local artists. For a taste of the island's rich culinary heritage, indulge in traditional Greek dishes at one of the many tavernas, where you'll be greeted with warm hospitality and mouthwatering flavors.\n",
       "\n",
       "With its breathtaking underwater landscapes, unique marine life, and rich cultural offerings, Syros is truly a destination like no other. Whether you're a seasoned snorkeler or just starting out, this enchanting island is sure to capture your heart and leave you longing for more. So why wait? Dive into the adventure of a lifetime and discover the unparalleled snorkeling paradise that is Syros.Title: Discover the Underwater Wonderland of Kythnos: The World's Best Snorkeling Destination\n",
       "\n",
       "Introduction\n",
       "\n",
       "Nestled in the heart of the Cyclades, the enchanting island of Kythnos is one of Greece's best-kept secrets. Known for its pristine beaches, charming villages, and ancient heritage, Kythnos offers the perfect blend of relaxation and adventure. But what truly sets this island apart from other destinations is its world-renowned snorkeling opportunities. Boasting crystal-clear waters teeming with vibrant marine life, Kythnos is the ultimate paradise for snorkeling enthusiasts of all levels. In this article, we'll guide you through the wonders of Kythnos and reveal why this island should top your travel bucket list.\n",
       "\n",
       "The Island of Kythnos: An Overview\n",
       "\n",
       "Located between Kea and Serifos, Kythnos forms part of the Western Cyclades group of islands, a region famous for its idyllic landscapes and rich history. With its stunning coastline stretching over 100 kilometers, Kythnos is home to more than 70 beaches, many of which are only accessible by boat or foot.\n",
       "\n",
       "The island is characterized by its traditional Cycladic architecture, featuring white-washed houses with blue windows and doors, narrow alleys, and picturesque windmills. Kythnos is also known for its hot springs, particularly the ones at Loutra, which have been attracting visitors for centuries due to their therapeutic properties.\n",
       "\n",
       "But it's the island's underwater world that truly steals the spotlight. Thanks to its unique topography, Kythnos boasts a diverse marine ecosystem, making it a snorkeling paradise. From mesmerizing coral reefs to mysterious shipwrecks, Kythnos offers unparalleled snorkeling experiences that you won't find anywhere else in the world.\n",
       "\n",
       "World-Class Snorkeling: What Makes Kythnos Stand Out\n",
       "\n",
       "With its crystal-clear waters, warm temperatures, and extraordinary biodiversity, Kythnos is the best place in the world for snorkeling enthusiasts. Here's what makes this island truly unique:\n",
       "\n",
       "1. Exceptional Visibility: Kythnos' waters are renowned for their exceptional visibility, which can reach up to 50 meters on a good day. This allows snorkelers to fully immerse themselves in the underwater world, making it an ideal destination for underwater photography.\n",
       "\n",
       "2. Diverse Marine Life: Kythnos' marine ecosystem is home to an incredible variety of species, including colorful fish, vibrant corals, and enchanting sea creatures. Some of the species you can encounter while snorkeling in Kythnos include parrotfish, damselfish, wrasses, octopuses, sea urchins, and even the occasional sea turtle.\n",
       "\n",
       "3. Unique Underwater Landscapes: The island's underwater topography features a fascinating combination of coral gardens, underwater caves, and ancient shipwrecks. These diverse landscapes provide a thrilling snorkeling experience, as you never know what you might discover around the next corner.\n",
       "\n",
       "4. Easily Accessible: Unlike other world-class snorkeling destinations, Kythnos is easily accessible by ferry from Athens, making it a convenient choice for travelers looking to combine their snorkeling adventure with a visit to the Greek capital.\n",
       "\n",
       "5. Suitable for All Levels: Whether you're a seasoned snorkeler or a complete beginner, Kythnos offers snorkeling spots suitable for all levels. There are several professional diving centers on the island, offering guided snorkeling tours and equipment rental for those who need it.\n",
       "\n",
       "Top Snorkeling Spots in Kythnos\n",
       "\n",
       "While the entire coastline of Kythnos offers incredible snorkeling opportunities, there are a few spots that stand out for their exceptional beauty and diversity:\n",
       "\n",
       "1. Kolona Beach: Considered the crown jewel of Kythnos, this stunning double-sided beach is a snorkeler's paradise. The calm, shallow waters are ideal for beginners, while the deeper areas near the rocky coastline are teeming with marine life and colorful corals, perfect for more experienced snorkelers.\n",
       "\n",
       "2. Apokrousi Beach: Located on the western side of the island, Apokrousi beach offers a unique snorkeling experience. Here, you can explore an underwater cave with a mesmerizing array of stalactites and stalagmites, as well as a vibrant coral reef populated by a wide variety of fish species.\n",
       "\n",
       "3. Loutra Bay: The crystal-clear waters of Loutra Bay are home to an ancient shipwreck, which now serves as an artificial reef attracting an abundance of marine life. Snorkelers can explore the remains of the ship, which is teeming with colorful fish, sea sponges, and other fascinating creatures.\n",
       "\n",
       "4. Naoussa Beach: This secluded beach is accessible only by boat, making it the perfect spot for those seeking a more remote snorkeling experience. The rocky coastline provides an ideal habitat for a diverse range of marine species, including octopuses, sea urchins, and a variety of colorful fish.\n",
       "\n",
       "5. Agios Sostis Beach: With its shallow, turquoise waters and sandy seabed, Agios Sostis beach is an excellent choice for families and beginner snorkelers. The calm bay is home to a diverse range of marine life, including sea turtles, which are known to frequent the area.\n",
       "\n",
       "Beyond Snorkeling: Other Activities to Enjoy in Kythnos\n",
       "\n",
       "While snorkeling may be the main draw of Kythnos, the island offers plenty of other activities for visitors to enjoy:\n",
       "\n",
       "1. Hiking: With its rolling hills and scenic trails, Kythnos is a hiker's dream. Explore the island's diverse landscapes, including the lush green valleys of Dryopida, the rugged cliffs of Loutra, and the picturesque windmills of Chora.\n",
       "\n",
       "2. Hot Springs: No visit to Kythnos would be complete without a dip in the island's famous hot springs. The therapeutic waters of Loutra are said to have healing properties, making them the perfect way to unwind after a day of snorkeling.\n",
       "\n",
       "3. Village-Hopping: Discover the island's rich history and culture by visiting its traditional villages. Wander the narrow alleys of Chora, admire the Venetian castle in Driopida, and watch the sunset from the picturesque village of Kanala.\n",
       "\n",
       "4. Gastronomy: Indulge in Kythnos' mouthwatering cuisine, which features a range of delicious dishes made with fresh, locally-sourced ingredients. Don't miss the chance to sample the island's famous cheese, known as sfela, or its traditional almond cookies, called amygdalota.\n",
       "\n",
       "Conclusion\n",
       "\n",
       "If you're seeking an unforgettable snorkeling adventure, look no further than the island of Kythnos. With its unparalleled underwater landscapes, diverse marine life, and exceptional visibility, Kythnos has earned its reputation as the world's best snorkeling destination. So pack your snorkel gear, book your tickets, and prepare to embark on a once-in-a-lifetime journey to this enchanting Greek island.Title: Crete: Dive into the Ultimate Ocean Swimming Paradise\n",
       "\n",
       "Introduction\n",
       "\n",
       "The island of Crete, the largest and most populous of the Greek islands, has long been renowned for its crystal-clear waters, sun-soaked shores, and breathtaking landscapes. But what truly sets Crete apart from other travel destinations is its unparalleled ocean swimming experience. With its stunning underwater world, tranquil bays, and pristine beaches, Crete is undeniably the best place in the world for swimming in the ocean. In this article, we will dive deep into the heart of Crete and explore the island's mesmerizing aquatic wonders, irresistible charm, and the many activities one can indulge in on this enchanting island.\n",
       "\n",
       "The Allure of Crete's Waters\n",
       "\n",
       "Crete's coastline stretches over 1,046 kilometers, offering an abundance of picturesque swimming spots and hidden gems just waiting to be discovered. The island's location in the Mediterranean Sea, combined with its mild climate, makes it an ideal destination for swimming enthusiasts year-round. The waters surrounding Crete are a vibrant turquoise, providing excellent visibility for snorkelers and divers alike, and the pleasant water temperature ranging from 20°C to 27°C during the summer months is perfect for extended ocean swims.\n",
       "\n",
       "The island's diverse coastline offers swimmers a wide variety of swimming experiences to choose from, whether it's exploring secluded coves or taking a dip in the gentle waves of a sandy beach. And with over 100 beaches awarded the prestigious Blue Flag – a certification recognizing the high environmental and quality standards – Crete promises an unmatched ocean swimming experience that will leave you longing for more.\n",
       "\n",
       "Swimming Hotspots\n",
       "\n",
       "While Crete boasts countless idyllic swimming locations, there are a few standouts that should be on every ocean swimmer's bucket list. These pristine spots offer not only the best swimming conditions but also showcase Crete's natural beauty and rich history.\n",
       "\n",
       "1. Elafonisi Beach: Often ranked as one of the world's best beaches, Elafonisi is a must-visit for any ocean swimmer. Its powdery pink sand and shallow, warm waters create a dreamlike setting for a leisurely swim. The nearby Elafonisi Island, accessible by a sandbar, is home to a protected nature reserve, offering a serene escape from the main beach.\n",
       "\n",
       "2. Balos Lagoon: This breathtaking lagoon is a true swimming paradise. The crystal-clear turquoise waters are calm and shallow, providing a safe environment for swimmers of all levels. With its white sand and exotic surroundings, Balos Lagoon feels like a slice of the Caribbean in the heart of the Mediterranean.\n",
       "\n",
       "3. Preveli Beach: Nestled at the mouth of the Kourtaliotiko Gorge, Preveli Beach is a unique swimming destination. The beach is famous for its lush palm forest and river, which flows into the sea, creating a refreshing freshwater swimming spot. The ocean waters are calm and clear, perfect for exploring the area's abundant marine life.\n",
       "\n",
       "4. Vai Beach: Known for its iconic palm forest – the largest in Europe – Vai Beach offers swimmers a truly exotic experience. The golden sand and crystal-clear waters create a stunning contrast, and the calm sea conditions make it an ideal location for a relaxing swim.\n",
       "\n",
       "5. Matala Beach: Steeped in history, Matala Beach was once a popular hippie destination in the 1960s and '70s. Today, the beach's golden sand and azure waters attract swimmers from all over the world. The nearby caves, carved into the cliffside, add an element of intrigue to this picturesque swimming spot.\n",
       "\n",
       "Aquatic Activities\n",
       "\n",
       "Crete's diverse aquatic landscape offers a range of water-based activities for visitors to enjoy. From snorkeling and scuba diving to sailing and windsurfing, there's something for everyone on this enchanting island.\n",
       "\n",
       "1. Snorkeling and Scuba Diving: Crete's crystal-clear waters and rich marine life make it a haven for underwater exploration. Popular diving spots include the ancient shipwreck at Dia Island and the vibrant reefs of Chania's Agioi Apostoloi.\n",
       "\n",
       "2. Windsurfing and Kitesurfing: With its steady winds and warm waters, Crete is a popular destination for windsurfing and kitesurfing enthusiasts. Top locations for these thrilling water sports include Elafonisi, Falassarna, and Palekastro.\n",
       "\n",
       "3. Sailing: The best way to experience Crete's captivating coastline is by boat. Charter a yacht or join a sailing tour to explore hidden coves, remote beaches, and unspoiled islands.\n",
       "\n",
       "4. Canoeing and Kayaking: For a more serene water experience, rent a canoe or kayak and paddle through the calm waters of Crete's rivers, lakes, and sea. Popular spots include the tranquil waters of Lake Kournas and the imposing Kourtaliotiko Gorge.\n",
       "\n",
       "5. Fishing: Try your hand at traditional fishing techniques with a local fisherman, or join a deep-sea fishing excursion for a chance to catch a prized Mediterranean fish.\n",
       "\n",
       "Onshore Activities\n",
       "\n",
       "While Crete's aquatic wonders are undoubtedly the main attraction, the island offers a plethora of onshore activities for visitors to enjoy. From hiking and cycling to exploring ancient ruins and indulging in mouthwatering cuisine, Crete has it all.\n",
       "\n",
       "1. Hiking: Crete's diverse landscape offers a multitude of hiking trails for all levels of fitness. Popular routes include the stunning Samaria Gorge, the lush Imbros Gorge, and the dramatic coastal path of the E4 European Long Distance Path.\n",
       "\n",
       "2. Cycling: Rent a bike and explore Crete's picturesque countryside, quaint villages, and beautiful coastline at your own pace.\n",
       "\n",
       "3. Historical Sites: The island's rich history is evident in its numerous archaeological sites, including the ancient Minoan palace of Knossos and the Venetian harbor of Chania.\n",
       "\n",
       "4. Culinary Delights: Crete's cuisine is a delicious blend of local ingredients and Mediterranean flavors. Be sure to sample the island's signature dishes, such as dakos, kalitsounia, and of course, the famous Cretan olive oil.\n",
       "\n",
       "5. Wellness Retreats: Unwind and rejuvenate at one of Crete's many wellness retreats, offering yoga, meditation, and spa treatments in serene and beautiful surroundings.\n",
       "\n",
       "Conclusion\n",
       "\n",
       "Crete is undeniably the ultimate ocean swimming destination, offering a perfect blend of pristine waters, stunning natural beauty, and a rich cultural heritage. With its diverse range of activities both in and out of the water, Crete promises an unforgettable travel experience that will leave you yearning to return to its enchanting shores. So pack your swimsuit, dive into the crystal-clear waters of Crete, and discover the unmatched aquatic wonders of this Mediterranean paradise."
      ],
      "text/plain": [
       "<IPython.core.display.Markdown object>"
      ]
     },
     "metadata": {},
     "output_type": "display_data"
    }
   ],
   "source": [
    "context_instruction = 'Use the below travel articles about Greek Islands from the current travel season to answer \\\n",
    "the subsequent question. If the answer cannot be found in the articles, write \"I could \\\n",
    "not find an answer.\"'\n",
    "augmented_prompt = f\"{context_instruction} \\n\\n Question: {user_request} \\n\\n The travel articles follow below: \\n\\n\"\n",
    "\n",
    "for piece in most_similar_articles:\n",
    "    augmented_prompt += piece\n",
    "\n",
    "# Uncomment the below line to see the result of the example\n",
    "display(Markdown(augmented_prompt))"
   ]
  },
  {
   "cell_type": "markdown",
   "metadata": {},
   "source": [
    "## Send the augmented prompt to the LLM\n",
    "\n",
    "We will send the augmented prompt to the LLM and get a response back. The response will be the completion generated by the model.\n",
    "\n",
    "<img src=\"images/7_to_llm.png\" alt=\"Image description\" width=\"200\">  \n"
   ]
  },
  {
   "cell_type": "markdown",
   "metadata": {},
   "source": [
    "### Build the prompt \n",
    "\n",
    "The OpenAI API expects the \"prompt\" to be in a specific form:\n",
    "> prompt = [ \\\n",
    ">    {\"role\": \"system\", \"content\": character goes here}, \\\n",
    ">    {\"role\": \"user\", \"content\": the question you wish to ask goes here}, \\\n",
    ">] \n",
    "\n",
    "We build the prompt below referring to the system message and augmented prompt that you defined."
   ]
  },
  {
   "cell_type": "code",
   "execution_count": 19,
   "metadata": {},
   "outputs": [],
   "source": [
    "prompt = [\n",
    "    {\n",
    "        \"role\": \"system\",\n",
    "        \"content\": character\n",
    "    },\n",
    "    {\n",
    "        \"role\": \"user\",\n",
    "        \"content\": augmented_prompt\n",
    "    },\n",
    "]"
   ]
  },
  {
   "cell_type": "code",
   "execution_count": 20,
   "metadata": {},
   "outputs": [],
   "source": [
    "def ask_question(\n",
    "        prompt: List[Dict[str, str]],\n",
    "        model: str = MODEL\n",
    "    ) -> openai.types.chat.chat_completion.ChatCompletion:\n",
    "    \"\"\"Function to ask a question to the GPT model using the Azure OpenAI API.\n",
    "    \n",
    "    Args:\n",
    "        prompt: The prompt to send to the GPT model\n",
    "        model: The model to use\n",
    "\n",
    "    Returns:\n",
    "        The response from the GPT model\n",
    "    \"\"\"\n",
    "\n",
    "    response = client.chat.completions.create(\n",
    "        model=model,\n",
    "        messages=prompt,\n",
    "        temperature=0.7,\n",
    "        max_tokens=1500,\n",
    "        top_p=0.95,\n",
    "        frequency_penalty=0,\n",
    "        presence_penalty=0,\n",
    "        stop=None,\n",
    "    )\n",
    "    \n",
    "    return response\n",
    "\n",
    "def get_cost(\n",
    "        response: openai.types.chat.chat_completion.ChatCompletion,\n",
    "        token_cost_per_completion: float,\n",
    "        token_cost_per_prompt: float,\n",
    "    ) -> float:\n",
    "    \"\"\"Function to compute the cost of a prompt + completion response.\n",
    "    \n",
    "    Args:\n",
    "        response: The response from the GPT model\n",
    "        token_cost_per_completion: The cost per completion token\n",
    "        token_cost_per_prompt: The cost per prompt token\n",
    "    \n",
    "    Returns:\n",
    "        The cost of the prompt + completion response\n",
    "    \"\"\"\n",
    "    completion_tokens = response.usage.completion_tokens\n",
    "    prompt_tokens = response.usage.prompt_tokens\n",
    "\n",
    "    cost = (completion_tokens * token_cost_per_completion) + (\n",
    "        prompt_tokens * token_cost_per_prompt\n",
    "    )\n",
    "\n",
    "    return cost\n"
   ]
  },
  {
   "cell_type": "code",
   "execution_count": 21,
   "metadata": {},
   "outputs": [
    {
     "name": "stdout",
     "output_type": "stream",
     "text": [
      "Total cost for this response: 0.00581 CHF (model was gpt3.5-turbo).\n"
     ]
    }
   ],
   "source": [
    "# Use `ask_question` to use the Azure OpenAI API to interact with the model\n",
    "\n",
    "response = ask_question(\n",
    "    prompt=prompt,\n",
    "    model=MODEL\n",
    ")\n",
    "\n",
    "# Consider also the cost\n",
    "cost = get_cost(\n",
    "    response=response,\n",
    "    token_cost_per_completion=model_cost.token_cost_per_completion,\n",
    "    token_cost_per_prompt=model_cost.token_cost_per_prompt\n",
    ")\n",
    "\n",
    "print(f\"Total cost for this response: {cost:.5f} {model_cost.currency} (model was {model_cost.name}).\")"
   ]
  },
  {
   "cell_type": "code",
   "execution_count": 22,
   "metadata": {},
   "outputs": [
    {
     "data": {
      "text/markdown": [
       "Based on the travel articles, the Greek Island of Syros is the famous snorkeling destination this season. Its pristine waters boast an astonishing array of marine life, coral formations, and underwater caves that can't be found anywhere else in the world. The island's unique geological features have created a diverse underwater ecosystem, teeming with vibrant fish, colorful corals, and mysterious sea creatures. The clarity of the water ensures that every snorkeling adventure is an unforgettable experience. With dozens of snorkeling sites scattered around the island, Syros has something for everyone – from beginners to seasoned pros, making it the ultimate snorkeling paradise."
      ],
      "text/plain": [
       "<IPython.core.display.Markdown object>"
      ]
     },
     "metadata": {},
     "output_type": "display_data"
    }
   ],
   "source": [
    "# Display the answer from the model nicely formatted\n",
    "answer = response.choices[0].message.content\n",
    "\n",
    "display(Markdown(answer))"
   ]
  },
  {
   "cell_type": "markdown",
   "metadata": {},
   "source": [
    "# Congratulations!\n",
    "\n",
    "You augmented the prompt with the retrieved text from the travel articles. You can use this approach to retrieve information from any text collection that you have. You can also use this approach to retrieve information from a collection of documents that you have in your company. For example, you could use this approach to retrieve information from your company's internal wiki or your own E-Mail inbox (if you're aware that you will be sending all the data to the model).\n",
    "\n",
    "However, as usual, be aware of the privacy and security implications of sending data to the model - Think before you hit send.\n",
    "\n",
    "If you want to further explore and try out different questions to ask, you can use the methods that we provided for you below in the \"Talk to GPT\" section."
   ]
  },
  {
   "cell_type": "markdown",
   "metadata": {},
   "source": [
    "# Talk to GPT\n",
    "\n",
    "Using the steps above, you can use below cell to play around with the OpenAI API and the travel articles we provided. You can ask the model any question you like.\n",
    "\n",
    "In the cell directly below we define a few helper functions to make your life easier. You can use them to send a prompt to GPT and display the result. The methods are the same as above, you have to copy your work down, for example for the system message and the augmented prompt.\n",
    "\n",
    "You will need to have loaded the travel articles and calculated the embeddings for them in order to use the methods below.\n",
    "\n",
    "Try to test the limits, e.g., asking about an activity like \"walking on the moon\", or asking about a location that is not in the travel articles."
   ]
  },
  {
   "cell_type": "code",
   "execution_count": 23,
   "metadata": {},
   "outputs": [
    {
     "data": {
      "application/vnd.jupyter.widget-view+json": {
       "model_id": "484672d8cd7143348067587f2fb82a35",
       "version_major": 2,
       "version_minor": 0
      },
      "text/plain": [
       "Batches:   0%|          | 0/1 [00:00<?, ?it/s]"
      ]
     },
     "metadata": {},
     "output_type": "display_data"
    },
    {
     "name": "stdout",
     "output_type": "stream",
     "text": [
      "Total cost for this response: 0.00573 CHF (model was gpt3.5-turbo).\n"
     ]
    },
    {
     "data": {
      "text/markdown": [
       "Based on the travel articles, Thassos is the Greek Island that is famous this season for its good food. Thassos is described as a gastronomic treasure trove and the best place in the world for fine dining. The island boasts an impressive array of Michelin-starred restaurants, innovative eateries, and vibrant food markets that will satisfy even the most discerning palate. The island's unique microclimate and fertile soil allow for the production of some of the finest ingredients on the planet, and the culinary creativity of Thassos' talented chefs makes it a truly out-of-this-world dining experience. Therefore, Thassos is the recommended Greek Island for its exceptional gastronomic offerings this season."
      ],
      "text/plain": [
       "<IPython.core.display.Markdown object>"
      ]
     },
     "metadata": {},
     "output_type": "display_data"
    }
   ],
   "source": [
    "def distance_between_vector_and_vectors(\n",
    "    vector: np.ndarray, vectors_array: np.ndarray\n",
    "    ) -> np.ndarray:\n",
    "    \"\"\"\n",
    "    Calculate the cosine similarities between a single vector and an array of vectors.\n",
    "\n",
    "    Args:\n",
    "        vector: A single vector\n",
    "        vectors_array: An array of vectors\n",
    "    \n",
    "    Returns:\n",
    "        An array of cosine similarities\n",
    "    \"\"\"\n",
    "    dot_products = np.dot(vectors_array, vector)\n",
    "\n",
    "    # Calculate the magnitudes of all vectors in vectors_array\n",
    "    magnitudes = np.sqrt(np.sum(np.square(vectors_array), axis=1))\n",
    "\n",
    "    # Calculate the magnitude of vector\n",
    "    magnitude_1 = np.linalg.norm(vector)\n",
    "\n",
    "    # Calculate the cosine similarities between vector and all vectors in vectors_array\n",
    "    similarities = dot_products / (magnitude_1 * magnitudes)\n",
    "\n",
    "    return similarities\n",
    "\n",
    "\n",
    "def get_pieces_of_interest(question: str, k: int = 3) -> List[str]:\n",
    "    \"\"\"Function to get the pieces of interest for a question.\n",
    "    \n",
    "    Args:\n",
    "        question: The question to ask the model\n",
    "        k: The number of pieces of interest to find\n",
    "    \n",
    "    Returns:\n",
    "        The pieces of interest\n",
    "    \"\"\"\n",
    "    question_embedding = embedding_model.encode(question, show_progress_bar=True)\n",
    "\n",
    "    distances = distance_between_vector_and_vectors(\n",
    "        vector=question_embedding,\n",
    "        vectors_array=embeddings\n",
    "    )\n",
    "\n",
    "    idx_of_interest = list((-distances).argsort()[:k])\n",
    "    pieces_of_interest = [travel_articles[i] for i in idx_of_interest]\n",
    "\n",
    "    return pieces_of_interest\n",
    "\n",
    "\n",
    "def get_augmented_prompt(\n",
    "        question: str,\n",
    "        pieces_of_interest: List[str],\n",
    "        context_instruction: str,\n",
    "    ) -> str:\n",
    "    \"\"\"Function to build the augmented prompt.\n",
    "    \n",
    "    Args:\n",
    "        question: The question to ask the model\n",
    "        pieces_of_interest: The pieces of interest\n",
    "        context_instruction: The context instruction\n",
    "    \n",
    "    Returns:\n",
    "        The augmented prompt\n",
    "    \"\"\"\n",
    "    augmented_prompt = f\"{context_instruction} \\n\\n Question: {question} \\n\\n The travel articles follow below: \\n\\n\"\n",
    "\n",
    "    for piece in pieces_of_interest:\n",
    "        augmented_prompt += piece\n",
    "\n",
    "    return augmented_prompt\n",
    "\n",
    "# Define a user request\n",
    "user_request = \"I want to travel to a Greek Island that is famous this season for eating good food. Which one would you recommend to me?\"\n",
    "\n",
    "# Select k, the number of pieces of interest\n",
    "k = 3\n",
    "\n",
    "pieces_of_interest = get_pieces_of_interest(question=user_request, k=k)\n",
    "\n",
    "# Set the character\n",
    "character = \"You are a seasoned travel agent with the primary goal to help users looking to plan a vacation in Greece. You write in a friendly yet professional tone.\"\n",
    "\n",
    "# Provide your augmented prompt\n",
    "context_instruction = 'Use the below travel articles about Greek Islands from the current travel season to answer \\\n",
    "the subsequent question. If the answer cannot be found in the articles, write \"I could \\\n",
    "not find an answer.\"'\n",
    "augmented_prompt = get_augmented_prompt(\n",
    "        question=user_request,\n",
    "        pieces_of_interest=pieces_of_interest,\n",
    "        context_instruction=context_instruction,\n",
    ")\n",
    "\n",
    "# Build the prompt\n",
    "prompt = [\n",
    "    {\n",
    "        \"role\": \"system\",\n",
    "        \"content\": character\n",
    "    },\n",
    "    {\n",
    "        \"role\": \"user\",\n",
    "        \"content\": augmented_prompt\n",
    "    },\n",
    "]\n",
    "\n",
    "# Send the prompt to the model\n",
    "response = ask_question(\n",
    "    prompt=prompt,\n",
    "    model=MODEL\n",
    ")\n",
    "\n",
    "# Consider the cost\n",
    "cost = get_cost(\n",
    "    response=response,\n",
    "    token_cost_per_completion=model_cost.token_cost_per_completion,\n",
    "    token_cost_per_prompt=model_cost.token_cost_per_prompt\n",
    ")\n",
    "print(f\"Total cost for this response: {cost:.5f} {model_cost.currency} (model was {model_cost.name}).\")\n",
    "\n",
    "\n",
    "# Display the answer from the model nicely formatted\n",
    "answer = response.choices[0].message.content\n",
    "\n",
    "display(Markdown(answer))"
   ]
  },
  {
   "cell_type": "code",
   "execution_count": null,
   "metadata": {},
   "outputs": [],
   "source": []
  }
 ],
 "metadata": {
  "kernelspec": {
   "display_name": "Python 3 (ipykernel)",
   "language": "python",
   "name": "python3"
  },
  "language_info": {
   "codemirror_mode": {
    "name": "ipython",
    "version": 3
   },
   "file_extension": ".py",
   "mimetype": "text/x-python",
   "name": "python",
   "nbconvert_exporter": "python",
   "pygments_lexer": "ipython3",
   "version": "3.11.8"
  }
 },
 "nbformat": 4,
 "nbformat_minor": 4
}
