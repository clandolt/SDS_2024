{
 "cells": [
  {
   "cell_type": "code",
   "execution_count": null,
   "metadata": {},
   "outputs": [],
   "source": [
    "# Load functions\n",
    "from orchestrator import controller, acceptance, consideration"
   ]
  },
  {
   "cell_type": "markdown",
   "metadata": {},
   "source": [
    "# Lets check the controller"
   ]
  },
  {
   "cell_type": "markdown",
   "metadata": {},
   "source": [
    "<img src=\"images/8_controller.png\" alt=\"Image description\" width=\"1000\">  "
   ]
  },
  {
   "cell_type": "markdown",
   "metadata": {},
   "source": [
    "Controller is inspired by contract law:\n",
    "\n",
    "1. **Offer**: A proposal by one party to another, outlining the terms for a potential agreement.\n",
    "2. **Acceptance**: The clear agreement by the other party to the terms of the offer.\n",
    "3. **Consideration**: Something of value exchanged between the parties to support the contract."
   ]
  },
  {
   "cell_type": "markdown",
   "metadata": {},
   "source": [
    "What are the criteria we want to check the prompt for?"
   ]
  },
  {
   "cell_type": "code",
   "execution_count": null,
   "metadata": {},
   "outputs": [],
   "source": [
    "print(acceptance)"
   ]
  },
  {
   "cell_type": "code",
   "execution_count": null,
   "metadata": {},
   "outputs": [],
   "source": [
    "print(consideration)"
   ]
  },
  {
   "cell_type": "markdown",
   "metadata": {},
   "source": [
    "Lets put it to test!"
   ]
  },
  {
   "cell_type": "code",
   "execution_count": null,
   "metadata": {},
   "outputs": [],
   "source": [
    "offer = \"I want to do a trip to the islands of greece\"\n",
    "identified_consideration = controller(offer, acceptance)\n",
    "\n",
    "if identified_consideration.lower() != consideration:\n",
    "    print(identified_consideration)\n",
    "else:\n",
    "    print(\"User Prompt: \",offer)\n",
    "\n",
    "# We expect that the questions is recjected\n"
   ]
  },
  {
   "cell_type": "code",
   "execution_count": null,
   "metadata": {},
   "outputs": [],
   "source": [
    "offer = \"I want to do a trip to the islands of greece by boat\"\n",
    "identified_consideration = controller(offer, acceptance)\n",
    "\n",
    "if identified_consideration.lower() != consideration:\n",
    "    print(identified_consideration)\n",
    "else:\n",
    "    print(\"User Prompt: \" ,offer)\n",
    "\n",
    "# We expect that the questions is accpeted"
   ]
  },
  {
   "cell_type": "markdown",
   "metadata": {},
   "source": [
    "#### Hurray - that was easy enough. Lets put the different hands-ons together into a single application.\n",
    "\n",
    "Do you want to define your own `acceptance` to check for?\n"
   ]
  }
 ],
 "metadata": {
  "kernelspec": {
   "display_name": "Python 3 (ipykernel)",
   "language": "python",
   "name": "python3"
  },
  "language_info": {
   "codemirror_mode": {
    "name": "ipython",
    "version": 3
   },
   "file_extension": ".py",
   "mimetype": "text/x-python",
   "name": "python",
   "nbconvert_exporter": "python",
   "pygments_lexer": "ipython3",
   "version": "3.11.8"
  }
 },
 "nbformat": 4,
 "nbformat_minor": 4
}
